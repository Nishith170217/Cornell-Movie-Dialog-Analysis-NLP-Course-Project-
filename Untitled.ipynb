{
 "cells": [
  {
   "cell_type": "code",
   "execution_count": 1,
   "id": "cbc802ed",
   "metadata": {},
   "outputs": [],
   "source": [
    "import numpy as np\n",
    "import pandas as pd\n",
    "\n",
    "# Provided data\n",
    "data = [\n",
    "    'They do not!', 'They do to!', 'I hope so.', 'She okay?', \"Let's go.\", 'Wow',\n",
    "    \"Okay -- you're gonna need to learn how to lie.\", 'No', np.nan, 'Like my fear of wearing pastels?',\n",
    "    np.nan, 'What good stuff?', \"I figured you'd get to the good stuff eventually.\",\n",
    "    'Thank God!  If I had to hear one more story about your coiffure...', \n",
    "    \"Me.  This endless ...blonde babble. I'm like boring myself.\", 'What crap?', \n",
    "    'do you listen to this crap?', 'No...', np.nan, 'You always been this selfish?', 'But', \n",
    "    \"Then that's all you had to say.\", 'Well no...', \"You never wanted to go out with 'me did you?\", \n",
    "    'I was?', np.nan, 'Tons', 'Have fun tonight?', 'I believe we share an art instructor', \n",
    "    'You know Chastity?', 'Looks like things worked out tonight huh?', 'Hi.', \n",
    "    \"Who knows?  All I've ever heard her say is that she'd dip before dating a guy that smokes.\", \n",
    "    \"So that's the kind of guy she likes? Pretty ones?\", \n",
    "    \"Lesbian?  No. I found a picture of Jared Leto in one of her drawers so I'm pretty sure she's not harboring same-sex tendencies.\", \n",
    "    \"She's not a...\", \"I'm workin' on it. But she doesn't seem to be goin' for him.\", \n",
    "    \"I really really really wanna go but I can't.  Not unless my sister goes.\", 'Sure have.', \n",
    "    \"Eber's Deep Conditioner every two days. And I never ever use a blowdryer without the diffuser attachment.\", \n",
    "    'How do you get your hair to look like that?', \"You're sweet.\", \n",
    "    'You have my word.  As a gentleman', \"I counted on you to help my cause. You and that thug are obviously failing. Aren't we ever going on our date?\", \n",
    "    'You got something on your mind?', 'Where?', 'There.', \"Well there's someone I think might be --\", \n",
    "    'How is our little Find the Wench A Date plan progressing?', 'Forget French.', \n",
    "    \"That's because it's such a nice one.\", \n",
    "    \"I don't want to know how to say that though.  I want to know useful things. Like where the good stores are.  How much does champagne cost?  Stuff like Chat.  I have never in my life had to point out my head to someone.\", \n",
    "    \"Right.  See?  You're ready for the quiz.\", \"C'esc ma tete. This is my head\", \n",
    "    'Let me see what I can do.', 'Gosh if only we could find Kat a boyfriend...', \n",
    "    \"That's a shame.\", 'Unsolved mystery.  She used to be really popular when she started high school then it was just like she got sick of it or something.', \n",
    "    'Why?', 'Seems like she could get a date easy enough...', \n",
    "    \"The thing is Cameron -- I'm at the mercy of a particularly hideous breed of loser.  My sister.  I can't date until she does.\", \n",
    "    'Cameron.', \"No no it's my fault -- we didn't have a proper introduction ---\", \n",
    "    'Forget it.', \"You're asking me out.  That's so cute. What's your name again?\", \n",
    "    \"Okay... then how 'bout we try out some French cuisine.  Saturday?  Night?\", \n",
    "    'Not the hacking and gagging and spitting part.  Please.', \n",
    "    \"Well I thought we'd start with pronunciation if that's okay with you.\", \n",
    "    'Can we make this quick?  Roxanne Korrine and Andrew Barrett are having an incredibly horrendous public break- up on the quad.  Again.', \n",
    "    'I did.', \"You think you ' re the only sophomore at the prom?\", \n",
    "    \"I don't have to be home 'til two.\", 'I have to be home in twenty minutes.', \n",
    "    \"All I know is -- I'd give up my private line to go out with a guy like Joey.\", \n",
    "    \"Sometimes I wonder if the guys we're supposed to want to go out with are the ones we actually want to go out with you know?\", \n",
    "    \"Bianca I don't think the highlights of dating Joey Dorsey are going to include door-opening and coat-holding.\", \n",
    "    \"Combination.  I don't know -- I thought he'd be different.  More of a gentleman...\", \n",
    "    'Is he oily or dry?', \n",
    "    \"He practically proposed when he found out we had the same dermatologist. I mean. Dr. Bonchowski is great an all but he's not exactly relevant party conversation.\", \n",
    "    'Would you mind getting me a drink Cameron?', 'Great', 'Joey.', 'Who?', \n",
    "    'Where did he go?  He was just here.', 'You might wanna think about it', 'No.', \n",
    "    'Did you change your hair?', \"You know the deal.  I can ' t go if Kat doesn't go --\", \n",
    "    'Listen I want to talk to you about the prom.', \"You're concentrating awfully hard considering it's gym class.\", \n",
    "    'Hi Joey.', 'Hey sweet cheeks.', \"My agent says I've got a good shot at being the Prada guy next year.\", \n",
    "    'Neat...', \"It's a gay cruise line but I'll be like wearing a uniform and stuff.\", 'Queen Harry?', \n",
    "    np.nan, 'Hopefully.', \"Exactly  So you going to Bogey Lowenbrau's thing on Saturday?\", 'Expensive?'\n",
    "]\n",
    "\n",
    "# Convert to DataFrame\n",
    "df = pd.DataFrame(data, columns=[\"dialogue\"])\n",
    "\n",
    "# Drop NaN values\n",
    "df.dropna(inplace=True)\n",
    "\n",
    "# Reset the index after dropping NaN values\n",
    "df.reset_index(drop=True, inplace=True)\n"
   ]
  },
  {
   "cell_type": "code",
   "execution_count": 2,
   "id": "d1e0fb57",
   "metadata": {},
   "outputs": [],
   "source": [
    "from tensorflow.keras.preprocessing.text import Tokenizer\n",
    "\n",
    "# Tokenize the dialogues\n",
    "tokenizer = Tokenizer()\n",
    "tokenizer.fit_on_texts(df[\"dialogue\"])\n",
    "\n",
    "# Convert text to sequences\n",
    "sequences = tokenizer.texts_to_sequences(df[\"dialogue\"])\n",
    "\n",
    "# Ensure there are no empty sequences\n",
    "sequences = [seq for seq in sequences if len(seq) > 0]\n"
   ]
  },
  {
   "cell_type": "code",
   "execution_count": 3,
   "id": "424d8811",
   "metadata": {},
   "outputs": [],
   "source": [
    "from tensorflow.keras.preprocessing.sequence import pad_sequences\n",
    "\n",
    "# Pad sequences to have the same length\n",
    "max_length = max(len(seq) for seq in sequences)\n",
    "padded_sequences = pad_sequences(sequences, maxlen=max_length, padding='post')\n"
   ]
  },
  {
   "cell_type": "code",
   "execution_count": 4,
   "id": "35956662",
   "metadata": {},
   "outputs": [],
   "source": [
    "import numpy as np\n",
    "\n",
    "# Prepare input (X) and target (y)\n",
    "X = padded_sequences[:, :-1]\n",
    "y = padded_sequences[:, 1:]\n",
    "\n",
    "# Reshape y for sparse_categorical_crossentropy\n",
    "y = y.reshape((y.shape[0], y.shape[1], 1))\n"
   ]
  },
  {
   "cell_type": "code",
   "execution_count": 5,
   "id": "1a8d92a4",
   "metadata": {},
   "outputs": [],
   "source": [
    "from sklearn.model_selection import train_test_split\n",
    "\n",
    "# Split into training and testing sets\n",
    "X_train, X_test, y_train, y_test = train_test_split(X, y, test_size=0.2, random_state=42)\n"
   ]
  },
  {
   "cell_type": "code",
   "execution_count": 6,
   "id": "3b4d88c4",
   "metadata": {},
   "outputs": [
    {
     "name": "stdout",
     "output_type": "stream",
     "text": [
      "Model: \"sequential\"\n",
      "_________________________________________________________________\n",
      " Layer (type)                Output Shape              Param #   \n",
      "=================================================================\n",
      " embedding (Embedding)       (None, 43, 32)            11296     \n",
      "                                                                 \n",
      " lstm (LSTM)                 (None, 43, 32)            8320      \n",
      "                                                                 \n",
      " time_distributed (TimeDist  (None, 43, 353)           11649     \n",
      " ributed)                                                        \n",
      "                                                                 \n",
      "=================================================================\n",
      "Total params: 31265 (122.13 KB)\n",
      "Trainable params: 31265 (122.13 KB)\n",
      "Non-trainable params: 0 (0.00 Byte)\n",
      "_________________________________________________________________\n"
     ]
    }
   ],
   "source": [
    "import os\n",
    "os.environ['CUDA_VISIBLE_DEVICES'] = '-1'\n",
    "\n",
    "\n",
    "import tensorflow as tf\n",
    "# Set the device placement strategy to use CPU by default\n",
    "tf.config.set_soft_device_placement(True)\n",
    "tf.config.experimental.set_visible_devices([], 'GPU')\n",
    "from tensorflow.keras.models import Sequential\n",
    "from tensorflow.keras.layers import Embedding, LSTM, Dense, TimeDistributed\n",
    "\n",
    "# Define the model\n",
    "model = Sequential()\n",
    "model.add(Embedding(input_dim=len(tokenizer.word_index) + 1, output_dim=32, input_length=max_length - 1))\n",
    "model.add(LSTM(32, return_sequences=True))  # Reduced LSTM size to 32 units\n",
    "model.add(TimeDistributed(Dense(len(tokenizer.word_index) + 1, activation='softmax')))\n",
    "\n",
    "# Summary of the model\n",
    "model.summary()\n"
   ]
  },
  {
   "cell_type": "code",
   "execution_count": 9,
   "id": "59de5b99",
   "metadata": {},
   "outputs": [],
   "source": [
    "# Compile the model\n",
    "model.compile(loss='sparse_categorical_crossentropy', optimizer='adam', metrics=['accuracy'])\n"
   ]
  },
  {
   "cell_type": "code",
   "execution_count": 10,
   "id": "d5d98052",
   "metadata": {},
   "outputs": [
    {
     "name": "stdout",
     "output_type": "stream",
     "text": [
      "Epoch 1/10\n",
      "8/8 [==============================] - 1s 42ms/step - loss: 5.8424 - accuracy: 0.5023 - val_loss: 5.8028 - val_accuracy: 0.8532\n",
      "Epoch 2/10\n",
      "8/8 [==============================] - 0s 7ms/step - loss: 5.7586 - accuracy: 0.8419 - val_loss: 5.6643 - val_accuracy: 0.8532\n",
      "Epoch 3/10\n",
      "8/8 [==============================] - 0s 7ms/step - loss: 5.5273 - accuracy: 0.8419 - val_loss: 5.2074 - val_accuracy: 0.8532\n",
      "Epoch 4/10\n",
      "8/8 [==============================] - 0s 7ms/step - loss: 4.8596 - accuracy: 0.8419 - val_loss: 4.3303 - val_accuracy: 0.8532\n",
      "Epoch 5/10\n",
      "8/8 [==============================] - 0s 8ms/step - loss: 3.9834 - accuracy: 0.8419 - val_loss: 3.5065 - val_accuracy: 0.8532\n",
      "Epoch 6/10\n",
      "8/8 [==============================] - 0s 7ms/step - loss: 3.2032 - accuracy: 0.8419 - val_loss: 2.7681 - val_accuracy: 0.8532\n",
      "Epoch 7/10\n",
      "8/8 [==============================] - 0s 8ms/step - loss: 2.5114 - accuracy: 0.8419 - val_loss: 2.1376 - val_accuracy: 0.8532\n",
      "Epoch 8/10\n",
      "8/8 [==============================] - 0s 7ms/step - loss: 1.9632 - accuracy: 0.8419 - val_loss: 1.6954 - val_accuracy: 0.8532\n",
      "Epoch 9/10\n",
      "8/8 [==============================] - 0s 7ms/step - loss: 1.6139 - accuracy: 0.8419 - val_loss: 1.4449 - val_accuracy: 0.8532\n",
      "Epoch 10/10\n",
      "8/8 [==============================] - 0s 7ms/step - loss: 1.4267 - accuracy: 0.8419 - val_loss: 1.3203 - val_accuracy: 0.8532\n"
     ]
    }
   ],
   "source": [
    "# Train the model\n",
    "history = model.fit(X_train, y_train, epochs=10, batch_size=8, validation_split=0.2)  # Reduced batch size and epochs\n"
   ]
  },
  {
   "cell_type": "code",
   "execution_count": 13,
   "id": "350f8b22",
   "metadata": {},
   "outputs": [
    {
     "name": "stdout",
     "output_type": "stream",
     "text": [
      "Generated Conversation:\n",
      "I hope so.          \n"
     ]
    }
   ],
   "source": []
  },
  {
   "cell_type": "code",
   "execution_count": null,
   "id": "c2cbe1ad",
   "metadata": {},
   "outputs": [],
   "source": []
  }
 ],
 "metadata": {
  "kernelspec": {
   "display_name": "Python 3 (ipykernel)",
   "language": "python",
   "name": "python3"
  },
  "language_info": {
   "codemirror_mode": {
    "name": "ipython",
    "version": 3
   },
   "file_extension": ".py",
   "mimetype": "text/x-python",
   "name": "python",
   "nbconvert_exporter": "python",
   "pygments_lexer": "ipython3",
   "version": "3.11.5"
  }
 },
 "nbformat": 4,
 "nbformat_minor": 5
}
