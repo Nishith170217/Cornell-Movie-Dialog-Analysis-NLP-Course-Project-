{
 "cells": [
  {
   "cell_type": "markdown",
   "id": "23d33b9e",
   "metadata": {},
   "source": [
    "#                         Cornell Movie Dialog Dataset Analysis by 'Webwizards'\n"
   ]
  },
  {
   "cell_type": "markdown",
   "id": "d3acb98e",
   "metadata": {},
   "source": [
    "## Contributors:\n",
    "  * [Rishikesh Miriyala](https://github.com/Rishi24109)\n",
    "  * [Nishith Ranjan Biswas](https://github.com/Nishith170217)\n"
   ]
  },
  {
   "cell_type": "markdown",
   "id": "027bb68a",
   "metadata": {},
   "source": [
    "## Overview\n",
    "\n",
    "This repository hosts the analysis of the Cornell Movie Dialogs dataset for a Natural Language Processing course project at Politecnico di Milano (Polimi). This project aims to leverage various NLP techniques to explore and model movie script dialogues, enabling a deeper understanding of conversational dynamics in films. This README outlines the dataset details, analysis methods, and insights gained from modeling efforts.\n",
    "\n",
    "## Dataset Description\n",
    "\n",
    "The Cornell Movie Dialogs dataset is a comprehensive compilation of movie character dialogues and associated metadata. Here are some key details:\n",
    "\n",
    "* Source: [Cornell Movie Dialogs Dataset on Hugging Face](https://huggingface.co/datasets/cornell_movie_dialog)\n",
    "* Reference Paper: [Chameleons in imagined conversations: A new approach to understanding coordination of linguistic style in dialogs](https://arxiv.org/abs/1106.3077)\n",
    "* Content Description: The dataset contains movie dialogue scripts accompanied by detailed metadata, such as film title, characters involved, and more.\n",
    "* Documents Type: Includes dialogues exchanged between movie characters.\n",
    "* Size: Contains 220,579 conversational exchanges between 10,292 pairs of movie characters involves 9,035 characters from 617 movies.\n",
    "* movie metadata included:\n",
    "  1. genres\n",
    "  2. release year\n",
    "  3. IMDB rating\n",
    "  4. number of IMDB votes\n",
    "  5. IMDB rating\n",
    "* character metadata included:\n",
    "  1. gender (for 3,774 characters)\n",
    "  2. position on movie credits (3,321 characters)\n",
    "\n",
    "* Primary Tasks:\n",
    "  * Film Dialog Generation: Generate contextually appropriate responses based on previous dialogue exchanges.\n",
    "  * Prediction of Metadata: Predict metadata attributes like film title or character traits based on specific dialogues."
   ]
  },
  {
   "cell_type": "code",
   "execution_count": null,
   "id": "207c7338",
   "metadata": {},
   "outputs": [],
   "source": []
  },
  {
   "cell_type": "code",
   "execution_count": null,
   "id": "b97b7892",
   "metadata": {},
   "outputs": [],
   "source": []
  }
 ],
 "metadata": {
  "kernelspec": {
   "display_name": "Python 3 (ipykernel)",
   "language": "python",
   "name": "python3"
  },
  "language_info": {
   "codemirror_mode": {
    "name": "ipython",
    "version": 3
   },
   "file_extension": ".py",
   "mimetype": "text/x-python",
   "name": "python",
   "nbconvert_exporter": "python",
   "pygments_lexer": "ipython3",
   "version": "3.11.5"
  }
 },
 "nbformat": 4,
 "nbformat_minor": 5
}
