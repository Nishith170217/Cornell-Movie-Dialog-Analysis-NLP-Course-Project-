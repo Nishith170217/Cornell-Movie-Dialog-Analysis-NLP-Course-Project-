{
 "cells": [
  {
   "cell_type": "markdown",
   "id": "6021efa0",
   "metadata": {},
   "source": [
    "#                         Cornell Movie Dialog Dataset Analysis by 'Webwizards'\n"
   ]
  },
  {
   "cell_type": "markdown",
   "id": "50afcd8f",
   "metadata": {},
   "source": [
    "## Contributors:\n",
    "  * [Rishikesh Miriyala](https://github.com/Rishi24109)\n",
    "  * [Nishith Ranjan Biswas](https://github.com/Nishith170217)\n"
   ]
  },
  {
   "cell_type": "markdown",
   "id": "ab3d4483",
   "metadata": {},
   "source": [
    "## Overview\n",
    "\n",
    "This repository hosts the analysis of the Cornell Movie Dialogs dataset for a Natural Language Processing course project at Politecnico di Milano (Polimi). This project aims to leverage various NLP techniques to explore and model movie script dialogues, enabling a deeper understanding of conversational dynamics in films. This README outlines the dataset details, analysis methods, and insights gained from modeling efforts.\n",
    "\n",
    "## Dataset Description\n",
    "\n",
    "The Cornell Movie Dialogs dataset is a comprehensive compilation of movie character dialogues and associated metadata. Here are some key details:\n",
    "\n",
    "* Source: [Cornell Movie Dialogs Dataset on Hugging Face](https://huggingface.co/datasets/cornell_movie_dialog)\n",
    "* Reference Paper: [Chameleons in imagined conversations: A new approach to understanding coordination of linguistic style in dialogs](https://arxiv.org/abs/1106.3077)\n",
    "* Content Description: The dataset contains movie dialogue scripts accompanied by detailed metadata, such as film title, characters involved, and more.\n",
    "* Documents Type: Includes dialogues exchanged between movie characters.\n",
    "* Size: Contains 220,579 conversational exchanges between 10,292 pairs of movie characters involves 9,035 characters from 617 movies.\n",
    "* movie metadata included:\n",
    "  1. genres\n",
    "  2. release year\n",
    "  3. IMDB rating\n",
    "  4. number of IMDB votes\n",
    "  5. IMDB rating\n",
    "* character metadata included:\n",
    "  1. gender (for 3,774 characters)\n",
    "  2. position on movie credits (3,321 characters)\n",
    "\n",
    "* Primary Tasks:\n",
    "  * Film Dialog Generation: Generate contextually appropriate responses based on previous dialogue exchanges.\n",
    "  * Prediction of Metadata: Predict metadata attributes like film title or character traits based on specific dialogues."
   ]
  },
  {
   "cell_type": "markdown",
   "id": "aff7709d",
   "metadata": {},
   "source": [
    "# Importing Libraries"
   ]
  },
  {
   "cell_type": "code",
   "execution_count": 1,
   "id": "e36bd1e4",
   "metadata": {},
   "outputs": [],
   "source": [
    "import numpy as np\n",
    "import pandas as pd"
   ]
  },
  {
   "cell_type": "markdown",
   "id": "e5b4b286",
   "metadata": {},
   "source": [
    "# Importing Dataset"
   ]
  },
  {
   "cell_type": "code",
   "execution_count": 2,
   "id": "a621438d",
   "metadata": {},
   "outputs": [],
   "source": [
    "conversations = pd.read_csv(\n",
    "    \"/Users/nishithranjanbiswas/Desktop/NLP/Cornell-Movie-Dialog-Analysis-NLP-Course-Project-/data/movie_conversations.tsv\", \n",
    "    sep='\\t', \n",
    "    encoding='ISO-8859-2',\n",
    "    names = ['charID_1', 'charID_2', 'movieID', 'conversation']\n",
    ")"
   ]
  },
  {
   "cell_type": "code",
   "execution_count": 3,
   "id": "f330d87d",
   "metadata": {},
   "outputs": [
    {
     "name": "stdout",
     "output_type": "stream",
     "text": [
      "<class 'pandas.core.frame.DataFrame'>\n",
      "RangeIndex: 83097 entries, 0 to 83096\n",
      "Data columns (total 4 columns):\n",
      " #   Column        Non-Null Count  Dtype \n",
      "---  ------        --------------  ----- \n",
      " 0   charID_1      83097 non-null  object\n",
      " 1   charID_2      83097 non-null  object\n",
      " 2   movieID       83097 non-null  object\n",
      " 3   conversation  83097 non-null  object\n",
      "dtypes: object(4)\n",
      "memory usage: 2.5+ MB\n"
     ]
    }
   ],
   "source": [
    "conversations.info()"
   ]
  },
  {
   "cell_type": "code",
   "execution_count": 4,
   "id": "7dfbfa28",
   "metadata": {},
   "outputs": [
    {
     "data": {
      "text/html": [
       "<div>\n",
       "<style scoped>\n",
       "    .dataframe tbody tr th:only-of-type {\n",
       "        vertical-align: middle;\n",
       "    }\n",
       "\n",
       "    .dataframe tbody tr th {\n",
       "        vertical-align: top;\n",
       "    }\n",
       "\n",
       "    .dataframe thead th {\n",
       "        text-align: right;\n",
       "    }\n",
       "</style>\n",
       "<table border=\"1\" class=\"dataframe\">\n",
       "  <thead>\n",
       "    <tr style=\"text-align: right;\">\n",
       "      <th></th>\n",
       "      <th>charID_1</th>\n",
       "      <th>charID_2</th>\n",
       "      <th>movieID</th>\n",
       "      <th>conversation</th>\n",
       "    </tr>\n",
       "  </thead>\n",
       "  <tbody>\n",
       "    <tr>\n",
       "      <th>0</th>\n",
       "      <td>u0</td>\n",
       "      <td>u2</td>\n",
       "      <td>m0</td>\n",
       "      <td>['L194' 'L195' 'L196' 'L197']</td>\n",
       "    </tr>\n",
       "    <tr>\n",
       "      <th>1</th>\n",
       "      <td>u0</td>\n",
       "      <td>u2</td>\n",
       "      <td>m0</td>\n",
       "      <td>['L198' 'L199']</td>\n",
       "    </tr>\n",
       "    <tr>\n",
       "      <th>2</th>\n",
       "      <td>u0</td>\n",
       "      <td>u2</td>\n",
       "      <td>m0</td>\n",
       "      <td>['L200' 'L201' 'L202' 'L203']</td>\n",
       "    </tr>\n",
       "    <tr>\n",
       "      <th>3</th>\n",
       "      <td>u0</td>\n",
       "      <td>u2</td>\n",
       "      <td>m0</td>\n",
       "      <td>['L204' 'L205' 'L206']</td>\n",
       "    </tr>\n",
       "    <tr>\n",
       "      <th>4</th>\n",
       "      <td>u0</td>\n",
       "      <td>u2</td>\n",
       "      <td>m0</td>\n",
       "      <td>['L207' 'L208']</td>\n",
       "    </tr>\n",
       "  </tbody>\n",
       "</table>\n",
       "</div>"
      ],
      "text/plain": [
       "  charID_1 charID_2 movieID                   conversation\n",
       "0       u0       u2      m0  ['L194' 'L195' 'L196' 'L197']\n",
       "1       u0       u2      m0                ['L198' 'L199']\n",
       "2       u0       u2      m0  ['L200' 'L201' 'L202' 'L203']\n",
       "3       u0       u2      m0         ['L204' 'L205' 'L206']\n",
       "4       u0       u2      m0                ['L207' 'L208']"
      ]
     },
     "execution_count": 4,
     "metadata": {},
     "output_type": "execute_result"
    }
   ],
   "source": [
    "conversations.head()"
   ]
  },
  {
   "cell_type": "code",
   "execution_count": 5,
   "id": "99ba677c",
   "metadata": {},
   "outputs": [],
   "source": [
    "lines = pd.read_csv(\n",
    "    \"/Users/nishithranjanbiswas/Desktop/NLP/Cornell-Movie-Dialog-Analysis-NLP-Course-Project-/data/movie_lines.tsv\", \n",
    "    encoding='utf-8-sig', \n",
    "    sep='\\t', \n",
    "    on_bad_lines=\"skip\", \n",
    "    header = None,\n",
    "    names = ['lineID', 'charID', 'movieID', 'charName', 'text'],\n",
    "    index_col=['lineID']\n",
    ")"
   ]
  },
  {
   "cell_type": "code",
   "execution_count": 6,
   "id": "bb0855f7",
   "metadata": {},
   "outputs": [
    {
     "name": "stdout",
     "output_type": "stream",
     "text": [
      "<class 'pandas.core.frame.DataFrame'>\n",
      "Index: 293202 entries, L1045 to L666256\n",
      "Data columns (total 4 columns):\n",
      " #   Column    Non-Null Count   Dtype \n",
      "---  ------    --------------   ----- \n",
      " 0   charID    288917 non-null  object\n",
      " 1   movieID   288917 non-null  object\n",
      " 2   charName  288874 non-null  object\n",
      " 3   text      288663 non-null  object\n",
      "dtypes: object(4)\n",
      "memory usage: 11.2+ MB\n"
     ]
    }
   ],
   "source": [
    "lines.info()"
   ]
  },
  {
   "cell_type": "code",
   "execution_count": 7,
   "id": "d3b17cdc",
   "metadata": {},
   "outputs": [
    {
     "data": {
      "text/html": [
       "<div>\n",
       "<style scoped>\n",
       "    .dataframe tbody tr th:only-of-type {\n",
       "        vertical-align: middle;\n",
       "    }\n",
       "\n",
       "    .dataframe tbody tr th {\n",
       "        vertical-align: top;\n",
       "    }\n",
       "\n",
       "    .dataframe thead th {\n",
       "        text-align: right;\n",
       "    }\n",
       "</style>\n",
       "<table border=\"1\" class=\"dataframe\">\n",
       "  <thead>\n",
       "    <tr style=\"text-align: right;\">\n",
       "      <th></th>\n",
       "      <th>charID</th>\n",
       "      <th>movieID</th>\n",
       "      <th>charName</th>\n",
       "      <th>text</th>\n",
       "    </tr>\n",
       "    <tr>\n",
       "      <th>lineID</th>\n",
       "      <th></th>\n",
       "      <th></th>\n",
       "      <th></th>\n",
       "      <th></th>\n",
       "    </tr>\n",
       "  </thead>\n",
       "  <tbody>\n",
       "    <tr>\n",
       "      <th>L1045</th>\n",
       "      <td>u0</td>\n",
       "      <td>m0</td>\n",
       "      <td>BIANCA</td>\n",
       "      <td>They do not!</td>\n",
       "    </tr>\n",
       "    <tr>\n",
       "      <th>L1044</th>\n",
       "      <td>u2</td>\n",
       "      <td>m0</td>\n",
       "      <td>CAMERON</td>\n",
       "      <td>They do to!</td>\n",
       "    </tr>\n",
       "    <tr>\n",
       "      <th>L985</th>\n",
       "      <td>u0</td>\n",
       "      <td>m0</td>\n",
       "      <td>BIANCA</td>\n",
       "      <td>I hope so.</td>\n",
       "    </tr>\n",
       "    <tr>\n",
       "      <th>L984</th>\n",
       "      <td>u2</td>\n",
       "      <td>m0</td>\n",
       "      <td>CAMERON</td>\n",
       "      <td>She okay?</td>\n",
       "    </tr>\n",
       "    <tr>\n",
       "      <th>L925</th>\n",
       "      <td>u0</td>\n",
       "      <td>m0</td>\n",
       "      <td>BIANCA</td>\n",
       "      <td>Let's go.</td>\n",
       "    </tr>\n",
       "  </tbody>\n",
       "</table>\n",
       "</div>"
      ],
      "text/plain": [
       "       charID movieID charName          text\n",
       "lineID                                      \n",
       "L1045      u0      m0   BIANCA  They do not!\n",
       "L1044      u2      m0  CAMERON   They do to!\n",
       "L985       u0      m0   BIANCA    I hope so.\n",
       "L984       u2      m0  CAMERON     She okay?\n",
       "L925       u0      m0   BIANCA     Let's go."
      ]
     },
     "execution_count": 7,
     "metadata": {},
     "output_type": "execute_result"
    }
   ],
   "source": [
    "lines.head()"
   ]
  },
  {
   "cell_type": "code",
   "execution_count": 8,
   "id": "3c5f7f6d",
   "metadata": {},
   "outputs": [],
   "source": [
    "characters = pd.read_csv(\n",
    "    \"/Users/nishithranjanbiswas/Desktop/NLP/Cornell-Movie-Dialog-Analysis-NLP-Course-Project-/data/movie_characters_metadata.tsv\", \n",
    "    sep='\\t', \n",
    "    header = None,\n",
    "    on_bad_lines= \"skip\",\n",
    "    names = ['charID','charName','movieID','movieName','gender','score'],\n",
    "    index_col=['charID']\n",
    ")"
   ]
  },
  {
   "cell_type": "code",
   "execution_count": 9,
   "id": "c26f20a9",
   "metadata": {},
   "outputs": [
    {
     "name": "stdout",
     "output_type": "stream",
     "text": [
      "<class 'pandas.core.frame.DataFrame'>\n",
      "Index: 9034 entries, u0 to u9034\n",
      "Data columns (total 5 columns):\n",
      " #   Column     Non-Null Count  Dtype \n",
      "---  ------     --------------  ----- \n",
      " 0   charName   9015 non-null   object\n",
      " 1   movieID    9017 non-null   object\n",
      " 2   movieName  9017 non-null   object\n",
      " 3   gender     9017 non-null   object\n",
      " 4   score      9017 non-null   object\n",
      "dtypes: object(5)\n",
      "memory usage: 423.5+ KB\n"
     ]
    }
   ],
   "source": [
    "characters.info()"
   ]
  },
  {
   "cell_type": "code",
   "execution_count": 10,
   "id": "697d9723",
   "metadata": {},
   "outputs": [
    {
     "data": {
      "text/html": [
       "<div>\n",
       "<style scoped>\n",
       "    .dataframe tbody tr th:only-of-type {\n",
       "        vertical-align: middle;\n",
       "    }\n",
       "\n",
       "    .dataframe tbody tr th {\n",
       "        vertical-align: top;\n",
       "    }\n",
       "\n",
       "    .dataframe thead th {\n",
       "        text-align: right;\n",
       "    }\n",
       "</style>\n",
       "<table border=\"1\" class=\"dataframe\">\n",
       "  <thead>\n",
       "    <tr style=\"text-align: right;\">\n",
       "      <th></th>\n",
       "      <th>charName</th>\n",
       "      <th>movieID</th>\n",
       "      <th>movieName</th>\n",
       "      <th>gender</th>\n",
       "      <th>score</th>\n",
       "    </tr>\n",
       "    <tr>\n",
       "      <th>charID</th>\n",
       "      <th></th>\n",
       "      <th></th>\n",
       "      <th></th>\n",
       "      <th></th>\n",
       "      <th></th>\n",
       "    </tr>\n",
       "  </thead>\n",
       "  <tbody>\n",
       "    <tr>\n",
       "      <th>u0</th>\n",
       "      <td>BIANCA</td>\n",
       "      <td>m0</td>\n",
       "      <td>10 things i hate about you</td>\n",
       "      <td>f</td>\n",
       "      <td>4</td>\n",
       "    </tr>\n",
       "    <tr>\n",
       "      <th>u1</th>\n",
       "      <td>BRUCE</td>\n",
       "      <td>m0</td>\n",
       "      <td>10 things i hate about you</td>\n",
       "      <td>?</td>\n",
       "      <td>?</td>\n",
       "    </tr>\n",
       "    <tr>\n",
       "      <th>u2</th>\n",
       "      <td>CAMERON</td>\n",
       "      <td>m0</td>\n",
       "      <td>10 things i hate about you</td>\n",
       "      <td>m</td>\n",
       "      <td>3</td>\n",
       "    </tr>\n",
       "    <tr>\n",
       "      <th>u3</th>\n",
       "      <td>CHASTITY</td>\n",
       "      <td>m0</td>\n",
       "      <td>10 things i hate about you</td>\n",
       "      <td>?</td>\n",
       "      <td>?</td>\n",
       "    </tr>\n",
       "    <tr>\n",
       "      <th>u4</th>\n",
       "      <td>JOEY</td>\n",
       "      <td>m0</td>\n",
       "      <td>10 things i hate about you</td>\n",
       "      <td>m</td>\n",
       "      <td>6</td>\n",
       "    </tr>\n",
       "  </tbody>\n",
       "</table>\n",
       "</div>"
      ],
      "text/plain": [
       "        charName movieID                   movieName gender score\n",
       "charID                                                           \n",
       "u0        BIANCA      m0  10 things i hate about you      f     4\n",
       "u1         BRUCE      m0  10 things i hate about you      ?     ?\n",
       "u2       CAMERON      m0  10 things i hate about you      m     3\n",
       "u3      CHASTITY      m0  10 things i hate about you      ?     ?\n",
       "u4          JOEY      m0  10 things i hate about you      m     6"
      ]
     },
     "execution_count": 10,
     "metadata": {},
     "output_type": "execute_result"
    }
   ],
   "source": [
    "characters.head()"
   ]
  },
  {
   "cell_type": "code",
   "execution_count": 11,
   "id": "66458ded",
   "metadata": {},
   "outputs": [],
   "source": [
    "titles = pd.read_csv(\n",
    "    \"/Users/nishithranjanbiswas/Desktop/NLP/Cornell-Movie-Dialog-Analysis-NLP-Course-Project-/data/movie_titles_metadata.tsv\",\n",
    "    sep='\\t',\n",
    "    header=None,\n",
    "    on_bad_lines=\"skip\",\n",
    "    names=['movieID', 'title', 'year', 'ratingIMDB', 'votes', 'genresIMDB'],\n",
    "    index_col=['movieID']\n",
    ")"
   ]
  },
  {
   "cell_type": "code",
   "execution_count": 12,
   "id": "5ef12c6d",
   "metadata": {},
   "outputs": [
    {
     "name": "stdout",
     "output_type": "stream",
     "text": [
      "<class 'pandas.core.frame.DataFrame'>\n",
      "Index: 617 entries, m0 to m616\n",
      "Data columns (total 5 columns):\n",
      " #   Column      Non-Null Count  Dtype  \n",
      "---  ------      --------------  -----  \n",
      " 0   title       616 non-null    object \n",
      " 1   year        616 non-null    object \n",
      " 2   ratingIMDB  616 non-null    float64\n",
      " 3   votes       616 non-null    float64\n",
      " 4   genresIMDB  616 non-null    object \n",
      "dtypes: float64(2), object(3)\n",
      "memory usage: 28.9+ KB\n"
     ]
    }
   ],
   "source": [
    "titles.info()"
   ]
  },
  {
   "cell_type": "code",
   "execution_count": 13,
   "id": "4fe8f8c2",
   "metadata": {},
   "outputs": [
    {
     "data": {
      "text/html": [
       "<div>\n",
       "<style scoped>\n",
       "    .dataframe tbody tr th:only-of-type {\n",
       "        vertical-align: middle;\n",
       "    }\n",
       "\n",
       "    .dataframe tbody tr th {\n",
       "        vertical-align: top;\n",
       "    }\n",
       "\n",
       "    .dataframe thead th {\n",
       "        text-align: right;\n",
       "    }\n",
       "</style>\n",
       "<table border=\"1\" class=\"dataframe\">\n",
       "  <thead>\n",
       "    <tr style=\"text-align: right;\">\n",
       "      <th></th>\n",
       "      <th>title</th>\n",
       "      <th>year</th>\n",
       "      <th>ratingIMDB</th>\n",
       "      <th>votes</th>\n",
       "      <th>genresIMDB</th>\n",
       "    </tr>\n",
       "    <tr>\n",
       "      <th>movieID</th>\n",
       "      <th></th>\n",
       "      <th></th>\n",
       "      <th></th>\n",
       "      <th></th>\n",
       "      <th></th>\n",
       "    </tr>\n",
       "  </thead>\n",
       "  <tbody>\n",
       "    <tr>\n",
       "      <th>m0</th>\n",
       "      <td>10 things i hate about you</td>\n",
       "      <td>1999</td>\n",
       "      <td>6.9</td>\n",
       "      <td>62847.0</td>\n",
       "      <td>['comedy' 'romance']</td>\n",
       "    </tr>\n",
       "    <tr>\n",
       "      <th>m1</th>\n",
       "      <td>1492: conquest of paradise</td>\n",
       "      <td>1992</td>\n",
       "      <td>6.2</td>\n",
       "      <td>10421.0</td>\n",
       "      <td>['adventure' 'biography' 'drama' 'history']</td>\n",
       "    </tr>\n",
       "    <tr>\n",
       "      <th>m2</th>\n",
       "      <td>15 minutes</td>\n",
       "      <td>2001</td>\n",
       "      <td>6.1</td>\n",
       "      <td>25854.0</td>\n",
       "      <td>['action' 'crime' 'drama' 'thriller']</td>\n",
       "    </tr>\n",
       "    <tr>\n",
       "      <th>m3</th>\n",
       "      <td>2001: a space odyssey</td>\n",
       "      <td>1968</td>\n",
       "      <td>8.4</td>\n",
       "      <td>163227.0</td>\n",
       "      <td>['adventure' 'mystery' 'sci-fi']</td>\n",
       "    </tr>\n",
       "    <tr>\n",
       "      <th>m4</th>\n",
       "      <td>48 hrs.</td>\n",
       "      <td>1982</td>\n",
       "      <td>6.9</td>\n",
       "      <td>22289.0</td>\n",
       "      <td>['action' 'comedy' 'crime' 'drama' 'thriller']</td>\n",
       "    </tr>\n",
       "  </tbody>\n",
       "</table>\n",
       "</div>"
      ],
      "text/plain": [
       "                              title  year  ratingIMDB     votes  \\\n",
       "movieID                                                           \n",
       "m0       10 things i hate about you  1999         6.9   62847.0   \n",
       "m1       1492: conquest of paradise  1992         6.2   10421.0   \n",
       "m2                       15 minutes  2001         6.1   25854.0   \n",
       "m3            2001: a space odyssey  1968         8.4  163227.0   \n",
       "m4                          48 hrs.  1982         6.9   22289.0   \n",
       "\n",
       "                                             genresIMDB  \n",
       "movieID                                                  \n",
       "m0                                 ['comedy' 'romance']  \n",
       "m1          ['adventure' 'biography' 'drama' 'history']  \n",
       "m2                ['action' 'crime' 'drama' 'thriller']  \n",
       "m3                     ['adventure' 'mystery' 'sci-fi']  \n",
       "m4       ['action' 'comedy' 'crime' 'drama' 'thriller']  "
      ]
     },
     "execution_count": 13,
     "metadata": {},
     "output_type": "execute_result"
    }
   ],
   "source": [
    "titles.head()"
   ]
  },
  {
   "cell_type": "code",
   "execution_count": 14,
   "id": "90d013f1",
   "metadata": {},
   "outputs": [],
   "source": [
    "# Merge the datasets\n",
    "merged_df = pd.merge(conversations, lines, on='movieID')\n",
    "merged_df = pd.merge(merged_df, titles, on='movieID')\n",
    "#merged_df = pd.merge(merged_df, characters, on='movieID')"
   ]
  },
  {
   "cell_type": "code",
   "execution_count": 15,
   "id": "37b1755b",
   "metadata": {},
   "outputs": [
    {
     "data": {
      "text/html": [
       "<div>\n",
       "<style scoped>\n",
       "    .dataframe tbody tr th:only-of-type {\n",
       "        vertical-align: middle;\n",
       "    }\n",
       "\n",
       "    .dataframe tbody tr th {\n",
       "        vertical-align: top;\n",
       "    }\n",
       "\n",
       "    .dataframe thead th {\n",
       "        text-align: right;\n",
       "    }\n",
       "</style>\n",
       "<table border=\"1\" class=\"dataframe\">\n",
       "  <thead>\n",
       "    <tr style=\"text-align: right;\">\n",
       "      <th></th>\n",
       "      <th>ratingIMDB</th>\n",
       "      <th>votes</th>\n",
       "    </tr>\n",
       "  </thead>\n",
       "  <tbody>\n",
       "    <tr>\n",
       "      <th>count</th>\n",
       "      <td>4.502377e+07</td>\n",
       "      <td>4.502377e+07</td>\n",
       "    </tr>\n",
       "    <tr>\n",
       "      <th>mean</th>\n",
       "      <td>7.001800e+00</td>\n",
       "      <td>4.936216e+04</td>\n",
       "    </tr>\n",
       "    <tr>\n",
       "      <th>std</th>\n",
       "      <td>1.152501e+00</td>\n",
       "      <td>5.887215e+04</td>\n",
       "    </tr>\n",
       "    <tr>\n",
       "      <th>min</th>\n",
       "      <td>2.500000e+00</td>\n",
       "      <td>9.000000e+00</td>\n",
       "    </tr>\n",
       "    <tr>\n",
       "      <th>25%</th>\n",
       "      <td>6.400000e+00</td>\n",
       "      <td>1.196900e+04</td>\n",
       "    </tr>\n",
       "    <tr>\n",
       "      <th>50%</th>\n",
       "      <td>7.200000e+00</td>\n",
       "      <td>2.779100e+04</td>\n",
       "    </tr>\n",
       "    <tr>\n",
       "      <th>75%</th>\n",
       "      <td>7.900000e+00</td>\n",
       "      <td>6.874900e+04</td>\n",
       "    </tr>\n",
       "    <tr>\n",
       "      <th>max</th>\n",
       "      <td>9.300000e+00</td>\n",
       "      <td>4.193120e+05</td>\n",
       "    </tr>\n",
       "  </tbody>\n",
       "</table>\n",
       "</div>"
      ],
      "text/plain": [
       "         ratingIMDB         votes\n",
       "count  4.502377e+07  4.502377e+07\n",
       "mean   7.001800e+00  4.936216e+04\n",
       "std    1.152501e+00  5.887215e+04\n",
       "min    2.500000e+00  9.000000e+00\n",
       "25%    6.400000e+00  1.196900e+04\n",
       "50%    7.200000e+00  2.779100e+04\n",
       "75%    7.900000e+00  6.874900e+04\n",
       "max    9.300000e+00  4.193120e+05"
      ]
     },
     "execution_count": 15,
     "metadata": {},
     "output_type": "execute_result"
    }
   ],
   "source": [
    "merged_df.describe()"
   ]
  },
  {
   "cell_type": "code",
   "execution_count": 16,
   "id": "43c434fa",
   "metadata": {},
   "outputs": [
    {
     "data": {
      "text/html": [
       "<div>\n",
       "<style scoped>\n",
       "    .dataframe tbody tr th:only-of-type {\n",
       "        vertical-align: middle;\n",
       "    }\n",
       "\n",
       "    .dataframe tbody tr th {\n",
       "        vertical-align: top;\n",
       "    }\n",
       "\n",
       "    .dataframe thead th {\n",
       "        text-align: right;\n",
       "    }\n",
       "</style>\n",
       "<table border=\"1\" class=\"dataframe\">\n",
       "  <thead>\n",
       "    <tr style=\"text-align: right;\">\n",
       "      <th></th>\n",
       "      <th>charID_1</th>\n",
       "      <th>charID_2</th>\n",
       "      <th>movieID</th>\n",
       "      <th>conversation</th>\n",
       "      <th>charID</th>\n",
       "      <th>charName</th>\n",
       "      <th>text</th>\n",
       "      <th>title</th>\n",
       "      <th>year</th>\n",
       "      <th>ratingIMDB</th>\n",
       "      <th>votes</th>\n",
       "      <th>genresIMDB</th>\n",
       "    </tr>\n",
       "  </thead>\n",
       "  <tbody>\n",
       "    <tr>\n",
       "      <th>0</th>\n",
       "      <td>u0</td>\n",
       "      <td>u2</td>\n",
       "      <td>m0</td>\n",
       "      <td>['L194' 'L195' 'L196' 'L197']</td>\n",
       "      <td>u0</td>\n",
       "      <td>BIANCA</td>\n",
       "      <td>They do not!</td>\n",
       "      <td>10 things i hate about you</td>\n",
       "      <td>1999</td>\n",
       "      <td>6.9</td>\n",
       "      <td>62847.0</td>\n",
       "      <td>['comedy' 'romance']</td>\n",
       "    </tr>\n",
       "    <tr>\n",
       "      <th>1</th>\n",
       "      <td>u0</td>\n",
       "      <td>u2</td>\n",
       "      <td>m0</td>\n",
       "      <td>['L194' 'L195' 'L196' 'L197']</td>\n",
       "      <td>u2</td>\n",
       "      <td>CAMERON</td>\n",
       "      <td>They do to!</td>\n",
       "      <td>10 things i hate about you</td>\n",
       "      <td>1999</td>\n",
       "      <td>6.9</td>\n",
       "      <td>62847.0</td>\n",
       "      <td>['comedy' 'romance']</td>\n",
       "    </tr>\n",
       "    <tr>\n",
       "      <th>2</th>\n",
       "      <td>u0</td>\n",
       "      <td>u2</td>\n",
       "      <td>m0</td>\n",
       "      <td>['L194' 'L195' 'L196' 'L197']</td>\n",
       "      <td>u0</td>\n",
       "      <td>BIANCA</td>\n",
       "      <td>I hope so.</td>\n",
       "      <td>10 things i hate about you</td>\n",
       "      <td>1999</td>\n",
       "      <td>6.9</td>\n",
       "      <td>62847.0</td>\n",
       "      <td>['comedy' 'romance']</td>\n",
       "    </tr>\n",
       "    <tr>\n",
       "      <th>3</th>\n",
       "      <td>u0</td>\n",
       "      <td>u2</td>\n",
       "      <td>m0</td>\n",
       "      <td>['L194' 'L195' 'L196' 'L197']</td>\n",
       "      <td>u2</td>\n",
       "      <td>CAMERON</td>\n",
       "      <td>She okay?</td>\n",
       "      <td>10 things i hate about you</td>\n",
       "      <td>1999</td>\n",
       "      <td>6.9</td>\n",
       "      <td>62847.0</td>\n",
       "      <td>['comedy' 'romance']</td>\n",
       "    </tr>\n",
       "    <tr>\n",
       "      <th>4</th>\n",
       "      <td>u0</td>\n",
       "      <td>u2</td>\n",
       "      <td>m0</td>\n",
       "      <td>['L194' 'L195' 'L196' 'L197']</td>\n",
       "      <td>u0</td>\n",
       "      <td>BIANCA</td>\n",
       "      <td>Let's go.</td>\n",
       "      <td>10 things i hate about you</td>\n",
       "      <td>1999</td>\n",
       "      <td>6.9</td>\n",
       "      <td>62847.0</td>\n",
       "      <td>['comedy' 'romance']</td>\n",
       "    </tr>\n",
       "  </tbody>\n",
       "</table>\n",
       "</div>"
      ],
      "text/plain": [
       "  charID_1 charID_2 movieID                   conversation charID charName  \\\n",
       "0       u0       u2      m0  ['L194' 'L195' 'L196' 'L197']     u0   BIANCA   \n",
       "1       u0       u2      m0  ['L194' 'L195' 'L196' 'L197']     u2  CAMERON   \n",
       "2       u0       u2      m0  ['L194' 'L195' 'L196' 'L197']     u0   BIANCA   \n",
       "3       u0       u2      m0  ['L194' 'L195' 'L196' 'L197']     u2  CAMERON   \n",
       "4       u0       u2      m0  ['L194' 'L195' 'L196' 'L197']     u0   BIANCA   \n",
       "\n",
       "           text                       title  year  ratingIMDB    votes  \\\n",
       "0  They do not!  10 things i hate about you  1999         6.9  62847.0   \n",
       "1   They do to!  10 things i hate about you  1999         6.9  62847.0   \n",
       "2    I hope so.  10 things i hate about you  1999         6.9  62847.0   \n",
       "3     She okay?  10 things i hate about you  1999         6.9  62847.0   \n",
       "4     Let's go.  10 things i hate about you  1999         6.9  62847.0   \n",
       "\n",
       "             genresIMDB  \n",
       "0  ['comedy' 'romance']  \n",
       "1  ['comedy' 'romance']  \n",
       "2  ['comedy' 'romance']  \n",
       "3  ['comedy' 'romance']  \n",
       "4  ['comedy' 'romance']  "
      ]
     },
     "execution_count": 16,
     "metadata": {},
     "output_type": "execute_result"
    }
   ],
   "source": [
    "merged_df.head()"
   ]
  },
  {
   "cell_type": "code",
   "execution_count": 17,
   "id": "9ba8d078",
   "metadata": {},
   "outputs": [],
   "source": [
    "from collections import Counter"
   ]
  },
  {
   "cell_type": "code",
   "execution_count": 19,
   "id": "b11754fc",
   "metadata": {},
   "outputs": [],
   "source": [
    "word_counts = Counter(word for sentence in merged_df for word in sentence.split())"
   ]
  },
  {
   "cell_type": "code",
   "execution_count": 20,
   "id": "866400c1",
   "metadata": {},
   "outputs": [],
   "source": [
    "vocabulary = list(word_counts.keys())"
   ]
  },
  {
   "cell_type": "code",
   "execution_count": 21,
   "id": "ed570b9c",
   "metadata": {},
   "outputs": [
    {
     "name": "stdout",
     "output_type": "stream",
     "text": [
      "Vocabulary: ['charID_1', 'charID_2', 'movieID', 'conversation', 'charID', 'charName', 'text', 'title', 'year', 'ratingIMDB', 'votes', 'genresIMDB']\n",
      "Vocabulary Size: 12\n"
     ]
    }
   ],
   "source": [
    "print(\"Vocabulary:\", vocabulary)\n",
    "print(\"Vocabulary Size:\", len(vocabulary))"
   ]
  },
  {
   "cell_type": "code",
   "execution_count": null,
   "id": "bdf8a347",
   "metadata": {},
   "outputs": [],
   "source": []
  },
  {
   "cell_type": "code",
   "execution_count": null,
   "id": "cfeff328",
   "metadata": {},
   "outputs": [],
   "source": []
  }
 ],
 "metadata": {
  "kernelspec": {
   "display_name": "Python 3 (ipykernel)",
   "language": "python",
   "name": "python3"
  },
  "language_info": {
   "codemirror_mode": {
    "name": "ipython",
    "version": 3
   },
   "file_extension": ".py",
   "mimetype": "text/x-python",
   "name": "python",
   "nbconvert_exporter": "python",
   "pygments_lexer": "ipython3",
   "version": "3.11.5"
  }
 },
 "nbformat": 4,
 "nbformat_minor": 5
}
