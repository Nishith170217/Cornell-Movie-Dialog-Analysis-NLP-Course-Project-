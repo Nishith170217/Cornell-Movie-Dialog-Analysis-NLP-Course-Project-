{
 "cells": [
  {
   "cell_type": "markdown",
   "id": "6021efa0",
   "metadata": {},
   "source": [
    "#                         Cornell Movie Dialog Dataset Analysis by 'Webwizards'\n"
   ]
  },
  {
   "cell_type": "markdown",
   "id": "50afcd8f",
   "metadata": {},
   "source": [
    "## Contributors:\n",
    "  * [Rishikesh Miriyala](https://github.com/Rishi24109)\n",
    "  * [Nishith Ranjan Biswas](https://github.com/Nishith170217)\n"
   ]
  },
  {
   "cell_type": "markdown",
   "id": "ab3d4483",
   "metadata": {},
   "source": [
    "## Overview\n",
    "\n",
    "This repository hosts the analysis of the Cornell Movie Dialogs dataset for a Natural Language Processing course project at Politecnico di Milano (Polimi). This project aims to leverage various NLP techniques to explore and model movie script dialogues, enabling a deeper understanding of conversational dynamics in films. This README outlines the dataset details, analysis methods, and insights gained from modeling efforts.\n",
    "\n",
    "## Dataset Description\n",
    "\n",
    "The Cornell Movie Dialogs dataset is a comprehensive compilation of movie character dialogues and associated metadata. Here are some key details:\n",
    "\n",
    "* Source: [Cornell Movie Dialogs Dataset on Hugging Face](https://huggingface.co/datasets/cornell_movie_dialog)\n",
    "* Reference Paper: [Chameleons in imagined conversations: A new approach to understanding coordination of linguistic style in dialogs](https://arxiv.org/abs/1106.3077)\n",
    "* Content Description: The dataset contains movie dialogue scripts accompanied by detailed metadata, such as film title, characters involved, and more.\n",
    "* Documents Type: Includes dialogues exchanged between movie characters.\n",
    "* Size: Contains 220,579 conversational exchanges between 10,292 pairs of movie characters involves 9,035 characters from 617 movies.\n",
    "* movie metadata included:\n",
    "  1. genres\n",
    "  2. release year\n",
    "  3. IMDB rating\n",
    "  4. number of IMDB votes\n",
    "  5. IMDB rating\n",
    "* character metadata included:\n",
    "  1. gender (for 3,774 characters)\n",
    "  2. position on movie credits (3,321 characters)\n",
    "\n",
    "* Primary Tasks:\n",
    "  * Film Dialog Generation: Generate contextually appropriate responses based on previous dialogue exchanges.\n",
    "  * Prediction of Metadata: Predict metadata attributes like film title or character traits based on specific dialogues."
   ]
  },
  {
   "cell_type": "markdown",
   "id": "aff7709d",
   "metadata": {},
   "source": [
    "# Importing Libraries"
   ]
  },
  {
   "cell_type": "code",
   "execution_count": 1,
   "id": "e36bd1e4",
   "metadata": {},
   "outputs": [],
   "source": [
    "import numpy as np\n",
    "import pandas as pd"
   ]
  },
  {
   "cell_type": "markdown",
   "id": "e5b4b286",
   "metadata": {},
   "source": [
    "# Importing Dataset"
   ]
  },
  {
   "cell_type": "code",
   "execution_count": 2,
   "id": "a621438d",
   "metadata": {},
   "outputs": [],
   "source": [
    "conversations = pd.read_csv(\n",
    "    \"/Users/nishithranjanbiswas/Desktop/NLP/Cornell-Movie-Dialog-Analysis-NLP-Course-Project-/data/movie_conversations.tsv\", \n",
    "    sep='\\t', \n",
    "    encoding='ISO-8859-2',\n",
    "    names = ['charID_1', 'charID_2', 'movieID', 'conversation']\n",
    ")"
   ]
  },
  {
   "cell_type": "code",
   "execution_count": 3,
   "id": "f330d87d",
   "metadata": {},
   "outputs": [
    {
     "name": "stdout",
     "output_type": "stream",
     "text": [
      "<class 'pandas.core.frame.DataFrame'>\n",
      "RangeIndex: 83097 entries, 0 to 83096\n",
      "Data columns (total 4 columns):\n",
      " #   Column        Non-Null Count  Dtype \n",
      "---  ------        --------------  ----- \n",
      " 0   charID_1      83097 non-null  object\n",
      " 1   charID_2      83097 non-null  object\n",
      " 2   movieID       83097 non-null  object\n",
      " 3   conversation  83097 non-null  object\n",
      "dtypes: object(4)\n",
      "memory usage: 2.5+ MB\n"
     ]
    }
   ],
   "source": [
    "conversations.info()"
   ]
  },
  {
   "cell_type": "code",
   "execution_count": 4,
   "id": "7dfbfa28",
   "metadata": {},
   "outputs": [
    {
     "data": {
      "text/html": [
       "<div>\n",
       "<style scoped>\n",
       "    .dataframe tbody tr th:only-of-type {\n",
       "        vertical-align: middle;\n",
       "    }\n",
       "\n",
       "    .dataframe tbody tr th {\n",
       "        vertical-align: top;\n",
       "    }\n",
       "\n",
       "    .dataframe thead th {\n",
       "        text-align: right;\n",
       "    }\n",
       "</style>\n",
       "<table border=\"1\" class=\"dataframe\">\n",
       "  <thead>\n",
       "    <tr style=\"text-align: right;\">\n",
       "      <th></th>\n",
       "      <th>charID_1</th>\n",
       "      <th>charID_2</th>\n",
       "      <th>movieID</th>\n",
       "      <th>conversation</th>\n",
       "    </tr>\n",
       "  </thead>\n",
       "  <tbody>\n",
       "    <tr>\n",
       "      <th>0</th>\n",
       "      <td>u0</td>\n",
       "      <td>u2</td>\n",
       "      <td>m0</td>\n",
       "      <td>['L194' 'L195' 'L196' 'L197']</td>\n",
       "    </tr>\n",
       "    <tr>\n",
       "      <th>1</th>\n",
       "      <td>u0</td>\n",
       "      <td>u2</td>\n",
       "      <td>m0</td>\n",
       "      <td>['L198' 'L199']</td>\n",
       "    </tr>\n",
       "    <tr>\n",
       "      <th>2</th>\n",
       "      <td>u0</td>\n",
       "      <td>u2</td>\n",
       "      <td>m0</td>\n",
       "      <td>['L200' 'L201' 'L202' 'L203']</td>\n",
       "    </tr>\n",
       "    <tr>\n",
       "      <th>3</th>\n",
       "      <td>u0</td>\n",
       "      <td>u2</td>\n",
       "      <td>m0</td>\n",
       "      <td>['L204' 'L205' 'L206']</td>\n",
       "    </tr>\n",
       "    <tr>\n",
       "      <th>4</th>\n",
       "      <td>u0</td>\n",
       "      <td>u2</td>\n",
       "      <td>m0</td>\n",
       "      <td>['L207' 'L208']</td>\n",
       "    </tr>\n",
       "  </tbody>\n",
       "</table>\n",
       "</div>"
      ],
      "text/plain": [
       "  charID_1 charID_2 movieID                   conversation\n",
       "0       u0       u2      m0  ['L194' 'L195' 'L196' 'L197']\n",
       "1       u0       u2      m0                ['L198' 'L199']\n",
       "2       u0       u2      m0  ['L200' 'L201' 'L202' 'L203']\n",
       "3       u0       u2      m0         ['L204' 'L205' 'L206']\n",
       "4       u0       u2      m0                ['L207' 'L208']"
      ]
     },
     "execution_count": 4,
     "metadata": {},
     "output_type": "execute_result"
    }
   ],
   "source": [
    "conversations.head()"
   ]
  },
  {
   "cell_type": "code",
   "execution_count": 5,
   "id": "99ba677c",
   "metadata": {},
   "outputs": [],
   "source": [
    "lines = pd.read_csv(\n",
    "    \"/Users/nishithranjanbiswas/Desktop/NLP/Cornell-Movie-Dialog-Analysis-NLP-Course-Project-/data/movie_lines.tsv\", \n",
    "    encoding='utf-8-sig', \n",
    "    sep='\\t', \n",
    "    on_bad_lines=\"skip\", \n",
    "    header = None,\n",
    "    names = ['lineID', 'charID', 'movieID', 'charName', 'text'],\n",
    "    index_col=['lineID']\n",
    ")"
   ]
  },
  {
   "cell_type": "code",
   "execution_count": 6,
   "id": "bb0855f7",
   "metadata": {},
   "outputs": [
    {
     "name": "stdout",
     "output_type": "stream",
     "text": [
      "<class 'pandas.core.frame.DataFrame'>\n",
      "Index: 293202 entries, L1045 to L666256\n",
      "Data columns (total 4 columns):\n",
      " #   Column    Non-Null Count   Dtype \n",
      "---  ------    --------------   ----- \n",
      " 0   charID    288917 non-null  object\n",
      " 1   movieID   288917 non-null  object\n",
      " 2   charName  288874 non-null  object\n",
      " 3   text      288663 non-null  object\n",
      "dtypes: object(4)\n",
      "memory usage: 11.2+ MB\n"
     ]
    }
   ],
   "source": [
    "lines.info()"
   ]
  },
  {
   "cell_type": "code",
   "execution_count": 7,
   "id": "d3b17cdc",
   "metadata": {},
   "outputs": [
    {
     "data": {
      "text/html": [
       "<div>\n",
       "<style scoped>\n",
       "    .dataframe tbody tr th:only-of-type {\n",
       "        vertical-align: middle;\n",
       "    }\n",
       "\n",
       "    .dataframe tbody tr th {\n",
       "        vertical-align: top;\n",
       "    }\n",
       "\n",
       "    .dataframe thead th {\n",
       "        text-align: right;\n",
       "    }\n",
       "</style>\n",
       "<table border=\"1\" class=\"dataframe\">\n",
       "  <thead>\n",
       "    <tr style=\"text-align: right;\">\n",
       "      <th></th>\n",
       "      <th>charID</th>\n",
       "      <th>movieID</th>\n",
       "      <th>charName</th>\n",
       "      <th>text</th>\n",
       "    </tr>\n",
       "    <tr>\n",
       "      <th>lineID</th>\n",
       "      <th></th>\n",
       "      <th></th>\n",
       "      <th></th>\n",
       "      <th></th>\n",
       "    </tr>\n",
       "  </thead>\n",
       "  <tbody>\n",
       "    <tr>\n",
       "      <th>L1045</th>\n",
       "      <td>u0</td>\n",
       "      <td>m0</td>\n",
       "      <td>BIANCA</td>\n",
       "      <td>They do not!</td>\n",
       "    </tr>\n",
       "    <tr>\n",
       "      <th>L1044</th>\n",
       "      <td>u2</td>\n",
       "      <td>m0</td>\n",
       "      <td>CAMERON</td>\n",
       "      <td>They do to!</td>\n",
       "    </tr>\n",
       "    <tr>\n",
       "      <th>L985</th>\n",
       "      <td>u0</td>\n",
       "      <td>m0</td>\n",
       "      <td>BIANCA</td>\n",
       "      <td>I hope so.</td>\n",
       "    </tr>\n",
       "    <tr>\n",
       "      <th>L984</th>\n",
       "      <td>u2</td>\n",
       "      <td>m0</td>\n",
       "      <td>CAMERON</td>\n",
       "      <td>She okay?</td>\n",
       "    </tr>\n",
       "    <tr>\n",
       "      <th>L925</th>\n",
       "      <td>u0</td>\n",
       "      <td>m0</td>\n",
       "      <td>BIANCA</td>\n",
       "      <td>Let's go.</td>\n",
       "    </tr>\n",
       "  </tbody>\n",
       "</table>\n",
       "</div>"
      ],
      "text/plain": [
       "       charID movieID charName          text\n",
       "lineID                                      \n",
       "L1045      u0      m0   BIANCA  They do not!\n",
       "L1044      u2      m0  CAMERON   They do to!\n",
       "L985       u0      m0   BIANCA    I hope so.\n",
       "L984       u2      m0  CAMERON     She okay?\n",
       "L925       u0      m0   BIANCA     Let's go."
      ]
     },
     "execution_count": 7,
     "metadata": {},
     "output_type": "execute_result"
    }
   ],
   "source": [
    "lines.head()"
   ]
  },
  {
   "cell_type": "code",
   "execution_count": 8,
   "id": "3c5f7f6d",
   "metadata": {},
   "outputs": [],
   "source": [
    "characters = pd.read_csv(\n",
    "    \"/Users/nishithranjanbiswas/Desktop/NLP/Cornell-Movie-Dialog-Analysis-NLP-Course-Project-/data/movie_characters_metadata.tsv\", \n",
    "    sep='\\t', \n",
    "    header = None,\n",
    "    on_bad_lines= \"skip\",\n",
    "    names = ['charID','charName','movieID','movieName','gender','score'],\n",
    "    index_col=['charID']\n",
    ")"
   ]
  },
  {
   "cell_type": "code",
   "execution_count": 9,
   "id": "c26f20a9",
   "metadata": {},
   "outputs": [
    {
     "name": "stdout",
     "output_type": "stream",
     "text": [
      "<class 'pandas.core.frame.DataFrame'>\n",
      "Index: 9034 entries, u0 to u9034\n",
      "Data columns (total 5 columns):\n",
      " #   Column     Non-Null Count  Dtype \n",
      "---  ------     --------------  ----- \n",
      " 0   charName   9015 non-null   object\n",
      " 1   movieID    9017 non-null   object\n",
      " 2   movieName  9017 non-null   object\n",
      " 3   gender     9017 non-null   object\n",
      " 4   score      9017 non-null   object\n",
      "dtypes: object(5)\n",
      "memory usage: 423.5+ KB\n"
     ]
    }
   ],
   "source": [
    "characters.info()"
   ]
  },
  {
   "cell_type": "code",
   "execution_count": 10,
   "id": "697d9723",
   "metadata": {},
   "outputs": [
    {
     "data": {
      "text/html": [
       "<div>\n",
       "<style scoped>\n",
       "    .dataframe tbody tr th:only-of-type {\n",
       "        vertical-align: middle;\n",
       "    }\n",
       "\n",
       "    .dataframe tbody tr th {\n",
       "        vertical-align: top;\n",
       "    }\n",
       "\n",
       "    .dataframe thead th {\n",
       "        text-align: right;\n",
       "    }\n",
       "</style>\n",
       "<table border=\"1\" class=\"dataframe\">\n",
       "  <thead>\n",
       "    <tr style=\"text-align: right;\">\n",
       "      <th></th>\n",
       "      <th>charName</th>\n",
       "      <th>movieID</th>\n",
       "      <th>movieName</th>\n",
       "      <th>gender</th>\n",
       "      <th>score</th>\n",
       "    </tr>\n",
       "    <tr>\n",
       "      <th>charID</th>\n",
       "      <th></th>\n",
       "      <th></th>\n",
       "      <th></th>\n",
       "      <th></th>\n",
       "      <th></th>\n",
       "    </tr>\n",
       "  </thead>\n",
       "  <tbody>\n",
       "    <tr>\n",
       "      <th>u0</th>\n",
       "      <td>BIANCA</td>\n",
       "      <td>m0</td>\n",
       "      <td>10 things i hate about you</td>\n",
       "      <td>f</td>\n",
       "      <td>4</td>\n",
       "    </tr>\n",
       "    <tr>\n",
       "      <th>u1</th>\n",
       "      <td>BRUCE</td>\n",
       "      <td>m0</td>\n",
       "      <td>10 things i hate about you</td>\n",
       "      <td>?</td>\n",
       "      <td>?</td>\n",
       "    </tr>\n",
       "    <tr>\n",
       "      <th>u2</th>\n",
       "      <td>CAMERON</td>\n",
       "      <td>m0</td>\n",
       "      <td>10 things i hate about you</td>\n",
       "      <td>m</td>\n",
       "      <td>3</td>\n",
       "    </tr>\n",
       "    <tr>\n",
       "      <th>u3</th>\n",
       "      <td>CHASTITY</td>\n",
       "      <td>m0</td>\n",
       "      <td>10 things i hate about you</td>\n",
       "      <td>?</td>\n",
       "      <td>?</td>\n",
       "    </tr>\n",
       "    <tr>\n",
       "      <th>u4</th>\n",
       "      <td>JOEY</td>\n",
       "      <td>m0</td>\n",
       "      <td>10 things i hate about you</td>\n",
       "      <td>m</td>\n",
       "      <td>6</td>\n",
       "    </tr>\n",
       "  </tbody>\n",
       "</table>\n",
       "</div>"
      ],
      "text/plain": [
       "        charName movieID                   movieName gender score\n",
       "charID                                                           \n",
       "u0        BIANCA      m0  10 things i hate about you      f     4\n",
       "u1         BRUCE      m0  10 things i hate about you      ?     ?\n",
       "u2       CAMERON      m0  10 things i hate about you      m     3\n",
       "u3      CHASTITY      m0  10 things i hate about you      ?     ?\n",
       "u4          JOEY      m0  10 things i hate about you      m     6"
      ]
     },
     "execution_count": 10,
     "metadata": {},
     "output_type": "execute_result"
    }
   ],
   "source": [
    "characters.head()"
   ]
  },
  {
   "cell_type": "code",
   "execution_count": 11,
   "id": "66458ded",
   "metadata": {},
   "outputs": [],
   "source": [
    "titles = pd.read_csv(\n",
    "    \"/Users/nishithranjanbiswas/Desktop/NLP/Cornell-Movie-Dialog-Analysis-NLP-Course-Project-/data/movie_titles_metadata.tsv\",\n",
    "    sep='\\t',\n",
    "    header=None,\n",
    "    on_bad_lines=\"skip\",\n",
    "    names=['movieID', 'title', 'year', 'ratingIMDB', 'votes', 'genresIMDB'],\n",
    "    index_col=['movieID']\n",
    ")"
   ]
  },
  {
   "cell_type": "code",
   "execution_count": 12,
   "id": "5ef12c6d",
   "metadata": {},
   "outputs": [
    {
     "name": "stdout",
     "output_type": "stream",
     "text": [
      "<class 'pandas.core.frame.DataFrame'>\n",
      "Index: 617 entries, m0 to m616\n",
      "Data columns (total 5 columns):\n",
      " #   Column      Non-Null Count  Dtype  \n",
      "---  ------      --------------  -----  \n",
      " 0   title       616 non-null    object \n",
      " 1   year        616 non-null    object \n",
      " 2   ratingIMDB  616 non-null    float64\n",
      " 3   votes       616 non-null    float64\n",
      " 4   genresIMDB  616 non-null    object \n",
      "dtypes: float64(2), object(3)\n",
      "memory usage: 28.9+ KB\n"
     ]
    }
   ],
   "source": [
    "titles.info()"
   ]
  },
  {
   "cell_type": "code",
   "execution_count": 13,
   "id": "4fe8f8c2",
   "metadata": {},
   "outputs": [
    {
     "data": {
      "text/html": [
       "<div>\n",
       "<style scoped>\n",
       "    .dataframe tbody tr th:only-of-type {\n",
       "        vertical-align: middle;\n",
       "    }\n",
       "\n",
       "    .dataframe tbody tr th {\n",
       "        vertical-align: top;\n",
       "    }\n",
       "\n",
       "    .dataframe thead th {\n",
       "        text-align: right;\n",
       "    }\n",
       "</style>\n",
       "<table border=\"1\" class=\"dataframe\">\n",
       "  <thead>\n",
       "    <tr style=\"text-align: right;\">\n",
       "      <th></th>\n",
       "      <th>title</th>\n",
       "      <th>year</th>\n",
       "      <th>ratingIMDB</th>\n",
       "      <th>votes</th>\n",
       "      <th>genresIMDB</th>\n",
       "    </tr>\n",
       "    <tr>\n",
       "      <th>movieID</th>\n",
       "      <th></th>\n",
       "      <th></th>\n",
       "      <th></th>\n",
       "      <th></th>\n",
       "      <th></th>\n",
       "    </tr>\n",
       "  </thead>\n",
       "  <tbody>\n",
       "    <tr>\n",
       "      <th>m0</th>\n",
       "      <td>10 things i hate about you</td>\n",
       "      <td>1999</td>\n",
       "      <td>6.9</td>\n",
       "      <td>62847.0</td>\n",
       "      <td>['comedy' 'romance']</td>\n",
       "    </tr>\n",
       "    <tr>\n",
       "      <th>m1</th>\n",
       "      <td>1492: conquest of paradise</td>\n",
       "      <td>1992</td>\n",
       "      <td>6.2</td>\n",
       "      <td>10421.0</td>\n",
       "      <td>['adventure' 'biography' 'drama' 'history']</td>\n",
       "    </tr>\n",
       "    <tr>\n",
       "      <th>m2</th>\n",
       "      <td>15 minutes</td>\n",
       "      <td>2001</td>\n",
       "      <td>6.1</td>\n",
       "      <td>25854.0</td>\n",
       "      <td>['action' 'crime' 'drama' 'thriller']</td>\n",
       "    </tr>\n",
       "    <tr>\n",
       "      <th>m3</th>\n",
       "      <td>2001: a space odyssey</td>\n",
       "      <td>1968</td>\n",
       "      <td>8.4</td>\n",
       "      <td>163227.0</td>\n",
       "      <td>['adventure' 'mystery' 'sci-fi']</td>\n",
       "    </tr>\n",
       "    <tr>\n",
       "      <th>m4</th>\n",
       "      <td>48 hrs.</td>\n",
       "      <td>1982</td>\n",
       "      <td>6.9</td>\n",
       "      <td>22289.0</td>\n",
       "      <td>['action' 'comedy' 'crime' 'drama' 'thriller']</td>\n",
       "    </tr>\n",
       "  </tbody>\n",
       "</table>\n",
       "</div>"
      ],
      "text/plain": [
       "                              title  year  ratingIMDB     votes  \\\n",
       "movieID                                                           \n",
       "m0       10 things i hate about you  1999         6.9   62847.0   \n",
       "m1       1492: conquest of paradise  1992         6.2   10421.0   \n",
       "m2                       15 minutes  2001         6.1   25854.0   \n",
       "m3            2001: a space odyssey  1968         8.4  163227.0   \n",
       "m4                          48 hrs.  1982         6.9   22289.0   \n",
       "\n",
       "                                             genresIMDB  \n",
       "movieID                                                  \n",
       "m0                                 ['comedy' 'romance']  \n",
       "m1          ['adventure' 'biography' 'drama' 'history']  \n",
       "m2                ['action' 'crime' 'drama' 'thriller']  \n",
       "m3                     ['adventure' 'mystery' 'sci-fi']  \n",
       "m4       ['action' 'comedy' 'crime' 'drama' 'thriller']  "
      ]
     },
     "execution_count": 13,
     "metadata": {},
     "output_type": "execute_result"
    }
   ],
   "source": [
    "titles.head()"
   ]
  },
  {
   "cell_type": "code",
   "execution_count": 14,
   "id": "90d013f1",
   "metadata": {},
   "outputs": [],
   "source": [
    "# Merge the datasets\n",
    "merged_df = pd.merge(conversations, lines, on='movieID')\n",
    "merged_df = pd.merge(merged_df, titles, on='movieID')\n",
    "#merged_df = pd.merge(merged_df, characters, on='movieID')"
   ]
  },
  {
   "cell_type": "code",
   "execution_count": 15,
   "id": "37b1755b",
   "metadata": {},
   "outputs": [
    {
     "data": {
      "text/html": [
       "<div>\n",
       "<style scoped>\n",
       "    .dataframe tbody tr th:only-of-type {\n",
       "        vertical-align: middle;\n",
       "    }\n",
       "\n",
       "    .dataframe tbody tr th {\n",
       "        vertical-align: top;\n",
       "    }\n",
       "\n",
       "    .dataframe thead th {\n",
       "        text-align: right;\n",
       "    }\n",
       "</style>\n",
       "<table border=\"1\" class=\"dataframe\">\n",
       "  <thead>\n",
       "    <tr style=\"text-align: right;\">\n",
       "      <th></th>\n",
       "      <th>ratingIMDB</th>\n",
       "      <th>votes</th>\n",
       "    </tr>\n",
       "  </thead>\n",
       "  <tbody>\n",
       "    <tr>\n",
       "      <th>count</th>\n",
       "      <td>4.502377e+07</td>\n",
       "      <td>4.502377e+07</td>\n",
       "    </tr>\n",
       "    <tr>\n",
       "      <th>mean</th>\n",
       "      <td>7.001800e+00</td>\n",
       "      <td>4.936216e+04</td>\n",
       "    </tr>\n",
       "    <tr>\n",
       "      <th>std</th>\n",
       "      <td>1.152501e+00</td>\n",
       "      <td>5.887215e+04</td>\n",
       "    </tr>\n",
       "    <tr>\n",
       "      <th>min</th>\n",
       "      <td>2.500000e+00</td>\n",
       "      <td>9.000000e+00</td>\n",
       "    </tr>\n",
       "    <tr>\n",
       "      <th>25%</th>\n",
       "      <td>6.400000e+00</td>\n",
       "      <td>1.196900e+04</td>\n",
       "    </tr>\n",
       "    <tr>\n",
       "      <th>50%</th>\n",
       "      <td>7.200000e+00</td>\n",
       "      <td>2.779100e+04</td>\n",
       "    </tr>\n",
       "    <tr>\n",
       "      <th>75%</th>\n",
       "      <td>7.900000e+00</td>\n",
       "      <td>6.874900e+04</td>\n",
       "    </tr>\n",
       "    <tr>\n",
       "      <th>max</th>\n",
       "      <td>9.300000e+00</td>\n",
       "      <td>4.193120e+05</td>\n",
       "    </tr>\n",
       "  </tbody>\n",
       "</table>\n",
       "</div>"
      ],
      "text/plain": [
       "         ratingIMDB         votes\n",
       "count  4.502377e+07  4.502377e+07\n",
       "mean   7.001800e+00  4.936216e+04\n",
       "std    1.152501e+00  5.887215e+04\n",
       "min    2.500000e+00  9.000000e+00\n",
       "25%    6.400000e+00  1.196900e+04\n",
       "50%    7.200000e+00  2.779100e+04\n",
       "75%    7.900000e+00  6.874900e+04\n",
       "max    9.300000e+00  4.193120e+05"
      ]
     },
     "execution_count": 15,
     "metadata": {},
     "output_type": "execute_result"
    }
   ],
   "source": [
    "merged_df.describe()"
   ]
  },
  {
   "cell_type": "code",
   "execution_count": 16,
   "id": "43c434fa",
   "metadata": {},
   "outputs": [
    {
     "data": {
      "text/html": [
       "<div>\n",
       "<style scoped>\n",
       "    .dataframe tbody tr th:only-of-type {\n",
       "        vertical-align: middle;\n",
       "    }\n",
       "\n",
       "    .dataframe tbody tr th {\n",
       "        vertical-align: top;\n",
       "    }\n",
       "\n",
       "    .dataframe thead th {\n",
       "        text-align: right;\n",
       "    }\n",
       "</style>\n",
       "<table border=\"1\" class=\"dataframe\">\n",
       "  <thead>\n",
       "    <tr style=\"text-align: right;\">\n",
       "      <th></th>\n",
       "      <th>charID_1</th>\n",
       "      <th>charID_2</th>\n",
       "      <th>movieID</th>\n",
       "      <th>conversation</th>\n",
       "      <th>charID</th>\n",
       "      <th>charName</th>\n",
       "      <th>text</th>\n",
       "      <th>title</th>\n",
       "      <th>year</th>\n",
       "      <th>ratingIMDB</th>\n",
       "      <th>votes</th>\n",
       "      <th>genresIMDB</th>\n",
       "    </tr>\n",
       "  </thead>\n",
       "  <tbody>\n",
       "    <tr>\n",
       "      <th>0</th>\n",
       "      <td>u0</td>\n",
       "      <td>u2</td>\n",
       "      <td>m0</td>\n",
       "      <td>['L194' 'L195' 'L196' 'L197']</td>\n",
       "      <td>u0</td>\n",
       "      <td>BIANCA</td>\n",
       "      <td>They do not!</td>\n",
       "      <td>10 things i hate about you</td>\n",
       "      <td>1999</td>\n",
       "      <td>6.9</td>\n",
       "      <td>62847.0</td>\n",
       "      <td>['comedy' 'romance']</td>\n",
       "    </tr>\n",
       "    <tr>\n",
       "      <th>1</th>\n",
       "      <td>u0</td>\n",
       "      <td>u2</td>\n",
       "      <td>m0</td>\n",
       "      <td>['L194' 'L195' 'L196' 'L197']</td>\n",
       "      <td>u2</td>\n",
       "      <td>CAMERON</td>\n",
       "      <td>They do to!</td>\n",
       "      <td>10 things i hate about you</td>\n",
       "      <td>1999</td>\n",
       "      <td>6.9</td>\n",
       "      <td>62847.0</td>\n",
       "      <td>['comedy' 'romance']</td>\n",
       "    </tr>\n",
       "    <tr>\n",
       "      <th>2</th>\n",
       "      <td>u0</td>\n",
       "      <td>u2</td>\n",
       "      <td>m0</td>\n",
       "      <td>['L194' 'L195' 'L196' 'L197']</td>\n",
       "      <td>u0</td>\n",
       "      <td>BIANCA</td>\n",
       "      <td>I hope so.</td>\n",
       "      <td>10 things i hate about you</td>\n",
       "      <td>1999</td>\n",
       "      <td>6.9</td>\n",
       "      <td>62847.0</td>\n",
       "      <td>['comedy' 'romance']</td>\n",
       "    </tr>\n",
       "    <tr>\n",
       "      <th>3</th>\n",
       "      <td>u0</td>\n",
       "      <td>u2</td>\n",
       "      <td>m0</td>\n",
       "      <td>['L194' 'L195' 'L196' 'L197']</td>\n",
       "      <td>u2</td>\n",
       "      <td>CAMERON</td>\n",
       "      <td>She okay?</td>\n",
       "      <td>10 things i hate about you</td>\n",
       "      <td>1999</td>\n",
       "      <td>6.9</td>\n",
       "      <td>62847.0</td>\n",
       "      <td>['comedy' 'romance']</td>\n",
       "    </tr>\n",
       "    <tr>\n",
       "      <th>4</th>\n",
       "      <td>u0</td>\n",
       "      <td>u2</td>\n",
       "      <td>m0</td>\n",
       "      <td>['L194' 'L195' 'L196' 'L197']</td>\n",
       "      <td>u0</td>\n",
       "      <td>BIANCA</td>\n",
       "      <td>Let's go.</td>\n",
       "      <td>10 things i hate about you</td>\n",
       "      <td>1999</td>\n",
       "      <td>6.9</td>\n",
       "      <td>62847.0</td>\n",
       "      <td>['comedy' 'romance']</td>\n",
       "    </tr>\n",
       "  </tbody>\n",
       "</table>\n",
       "</div>"
      ],
      "text/plain": [
       "  charID_1 charID_2 movieID                   conversation charID charName  \\\n",
       "0       u0       u2      m0  ['L194' 'L195' 'L196' 'L197']     u0   BIANCA   \n",
       "1       u0       u2      m0  ['L194' 'L195' 'L196' 'L197']     u2  CAMERON   \n",
       "2       u0       u2      m0  ['L194' 'L195' 'L196' 'L197']     u0   BIANCA   \n",
       "3       u0       u2      m0  ['L194' 'L195' 'L196' 'L197']     u2  CAMERON   \n",
       "4       u0       u2      m0  ['L194' 'L195' 'L196' 'L197']     u0   BIANCA   \n",
       "\n",
       "           text                       title  year  ratingIMDB    votes  \\\n",
       "0  They do not!  10 things i hate about you  1999         6.9  62847.0   \n",
       "1   They do to!  10 things i hate about you  1999         6.9  62847.0   \n",
       "2    I hope so.  10 things i hate about you  1999         6.9  62847.0   \n",
       "3     She okay?  10 things i hate about you  1999         6.9  62847.0   \n",
       "4     Let's go.  10 things i hate about you  1999         6.9  62847.0   \n",
       "\n",
       "             genresIMDB  \n",
       "0  ['comedy' 'romance']  \n",
       "1  ['comedy' 'romance']  \n",
       "2  ['comedy' 'romance']  \n",
       "3  ['comedy' 'romance']  \n",
       "4  ['comedy' 'romance']  "
      ]
     },
     "execution_count": 16,
     "metadata": {},
     "output_type": "execute_result"
    }
   ],
   "source": [
    "merged_df.head()"
   ]
  },
  {
   "cell_type": "code",
   "execution_count": 17,
   "id": "9ba8d078",
   "metadata": {},
   "outputs": [],
   "source": [
    "from collections import Counter"
   ]
  },
  {
   "cell_type": "code",
   "execution_count": 18,
   "id": "b11754fc",
   "metadata": {},
   "outputs": [],
   "source": [
    "word_counts = Counter(word for sentence in merged_df for word in sentence.split())"
   ]
  },
  {
   "cell_type": "code",
   "execution_count": 19,
   "id": "866400c1",
   "metadata": {},
   "outputs": [],
   "source": [
    "vocabulary = list(word_counts.keys())"
   ]
  },
  {
   "cell_type": "code",
   "execution_count": 20,
   "id": "ed570b9c",
   "metadata": {},
   "outputs": [
    {
     "name": "stdout",
     "output_type": "stream",
     "text": [
      "Vocabulary: ['charID_1', 'charID_2', 'movieID', 'conversation', 'charID', 'charName', 'text', 'title', 'year', 'ratingIMDB', 'votes', 'genresIMDB']\n",
      "Vocabulary Size: 12\n"
     ]
    }
   ],
   "source": [
    "print(\"Vocabulary:\", vocabulary)\n",
    "print(\"Vocabulary Size:\", len(vocabulary))"
   ]
  },
  {
   "cell_type": "code",
   "execution_count": 21,
   "id": "bdf8a347",
   "metadata": {},
   "outputs": [
    {
     "name": "stdout",
     "output_type": "stream",
     "text": [
      "    charID_1 charID_2 movieID                       conversation\n",
      "0         u0       u2      m0      ['L194' 'L195' 'L196' 'L197']\n",
      "1         u0       u2      m0                    ['L198' 'L199']\n",
      "2         u0       u2      m0      ['L200' 'L201' 'L202' 'L203']\n",
      "3         u0       u2      m0             ['L204' 'L205' 'L206']\n",
      "4         u0       u2      m0                    ['L207' 'L208']\n",
      "..       ...      ...     ...                                ...\n",
      "995     u115     u121      m7          ['L8033' 'L8034' 'L8035']\n",
      "996     u115     u121      m7                  ['L8036' 'L8037']\n",
      "997     u115     u121      m7  ['L8094' 'L8095' 'L8096' 'L8097']\n",
      "998     u115     u121      m7                  ['L8155' 'L8156']\n",
      "999     u115     u121      m7  ['L8196' 'L8197' 'L8198' 'L8199']\n",
      "\n",
      "[1000 rows x 4 columns]\n"
     ]
    }
   ],
   "source": [
    "print(conversations[:1000])"
   ]
  },
  {
   "cell_type": "code",
   "execution_count": 22,
   "id": "cfeff328",
   "metadata": {},
   "outputs": [
    {
     "name": "stdout",
     "output_type": "stream",
     "text": [
      "       charID movieID charName                    text\n",
      "lineID                                                \n",
      "L1045      u0      m0   BIANCA            They do not!\n",
      "L1044      u2      m0  CAMERON             They do to!\n",
      "L985       u0      m0   BIANCA              I hope so.\n",
      "L984       u2      m0  CAMERON               She okay?\n",
      "L925       u0      m0   BIANCA               Let's go.\n",
      "...       ...     ...      ...                     ...\n",
      "L3329     u34      m2    JORDY     What are you doing?\n",
      "L3318     u27      m2   DAPHNE    I'll get my clothes.\n",
      "L3317     u34      m2    JORDY  I'll make some for us.\n",
      "L3316     u27      m2   DAPHNE         In the kitchen.\n",
      "L3315     u34      m2    JORDY     Do you have coffee?\n",
      "\n",
      "[1000 rows x 4 columns]\n"
     ]
    }
   ],
   "source": [
    "print(lines[:1000])"
   ]
  },
  {
   "cell_type": "code",
   "execution_count": 23,
   "id": "850aa1b4",
   "metadata": {},
   "outputs": [],
   "source": [
    "dialogues = [''lines['charName'] + ' : ' + lines['text']]"
   ]
  },
  {
   "cell_type": "code",
   "execution_count": 24,
   "id": "93cb4136",
   "metadata": {},
   "outputs": [
    {
     "data": {
      "text/plain": [
       "lineID\n",
       "L1045                                  BIANCA : They do not!\n",
       "L1044                                  CAMERON : They do to!\n",
       "L985                                     BIANCA : I hope so.\n",
       "L984                                     CAMERON : She okay?\n",
       "L925                                      BIANCA : Let's go.\n",
       "                                 ...                        \n",
       "L666371    DURNFORD : Lord Chelmsford seems to want me to...\n",
       "L666370    VEREKER : I'm to take the Sikali with the main...\n",
       "L666369                   DURNFORD : Your orders Mr Vereker?\n",
       "L666257    DURNFORD : Good ones yes Mr Vereker. Gentlemen...\n",
       "L666256    VEREKER : Colonel Durnford... William Vereker....\n",
       "Length: 293202, dtype: object"
      ]
     },
     "execution_count": 24,
     "metadata": {},
     "output_type": "execute_result"
    }
   ],
   "source": [
    "dialogues[0]"
   ]
  },
  {
   "cell_type": "code",
   "execution_count": 25,
   "id": "eeb729a9",
   "metadata": {},
   "outputs": [
    {
     "name": "stderr",
     "output_type": "stream",
     "text": [
      "/var/folders/k0/5lfd2z4n64qdlnzn62hkwr540000gn/T/ipykernel_4587/3039143079.py:6: TqdmExperimentalWarning: Using `tqdm.autonotebook.tqdm` in notebook mode. Use `tqdm.tqdm` instead to force console mode (e.g. in jupyter console)\n",
      "  from tqdm.autonotebook import tqdm\n"
     ]
    }
   ],
   "source": [
    "import re\n",
    "import matplotlib.pyplot as plt # drawing and visualizing data\n",
    "import seaborn as sns # nicer plotting above matplotlib\n",
    "import nltk # NLP library\n",
    "from nltk.tokenize import word_tokenize\n",
    "from tqdm.autonotebook import tqdm"
   ]
  },
  {
   "cell_type": "code",
   "execution_count": 26,
   "id": "55d3c3fe",
   "metadata": {},
   "outputs": [
    {
     "data": {
      "text/html": [
       "<div>\n",
       "<style scoped>\n",
       "    .dataframe tbody tr th:only-of-type {\n",
       "        vertical-align: middle;\n",
       "    }\n",
       "\n",
       "    .dataframe tbody tr th {\n",
       "        vertical-align: top;\n",
       "    }\n",
       "\n",
       "    .dataframe thead th {\n",
       "        text-align: right;\n",
       "    }\n",
       "</style>\n",
       "<table border=\"1\" class=\"dataframe\">\n",
       "  <thead>\n",
       "    <tr style=\"text-align: right;\">\n",
       "      <th></th>\n",
       "      <th>charID_1</th>\n",
       "      <th>charID_2</th>\n",
       "      <th>movieID</th>\n",
       "      <th>conversation</th>\n",
       "      <th>length</th>\n",
       "    </tr>\n",
       "  </thead>\n",
       "  <tbody>\n",
       "    <tr>\n",
       "      <th>42477</th>\n",
       "      <td>u4522</td>\n",
       "      <td>u4525</td>\n",
       "      <td>m299</td>\n",
       "      <td>[L135360, L135361, L135362, L135363, L135364, ...</td>\n",
       "      <td>89</td>\n",
       "    </tr>\n",
       "    <tr>\n",
       "      <th>73134</th>\n",
       "      <td>u7932</td>\n",
       "      <td>u7936</td>\n",
       "      <td>m537</td>\n",
       "      <td>[L553902, L553903, L553904, L553905, L553906, ...</td>\n",
       "      <td>59</td>\n",
       "    </tr>\n",
       "    <tr>\n",
       "      <th>70355</th>\n",
       "      <td>u7663</td>\n",
       "      <td>u7666</td>\n",
       "      <td>m518</td>\n",
       "      <td>[L513247, L513248, L513249, L513250, L513251, ...</td>\n",
       "      <td>56</td>\n",
       "    </tr>\n",
       "    <tr>\n",
       "      <th>45571</th>\n",
       "      <td>u4857</td>\n",
       "      <td>u4866</td>\n",
       "      <td>m324</td>\n",
       "      <td>[L167261, L167262, L167263, L167264, L167265, ...</td>\n",
       "      <td>55</td>\n",
       "    </tr>\n",
       "    <tr>\n",
       "      <th>11348</th>\n",
       "      <td>u1240</td>\n",
       "      <td>u1243</td>\n",
       "      <td>m82</td>\n",
       "      <td>[L267558, L267559, L267560, L267561, L267562, ...</td>\n",
       "      <td>54</td>\n",
       "    </tr>\n",
       "    <tr>\n",
       "      <th>...</th>\n",
       "      <td>...</td>\n",
       "      <td>...</td>\n",
       "      <td>...</td>\n",
       "      <td>...</td>\n",
       "      <td>...</td>\n",
       "    </tr>\n",
       "    <tr>\n",
       "      <th>20661</th>\n",
       "      <td>u2256</td>\n",
       "      <td>u2265</td>\n",
       "      <td>m145</td>\n",
       "      <td>[L412100, L412101]</td>\n",
       "      <td>2</td>\n",
       "    </tr>\n",
       "    <tr>\n",
       "      <th>55457</th>\n",
       "      <td>u6020</td>\n",
       "      <td>u6022</td>\n",
       "      <td>m400</td>\n",
       "      <td>[L308227, L308228]</td>\n",
       "      <td>2</td>\n",
       "    </tr>\n",
       "    <tr>\n",
       "      <th>11491</th>\n",
       "      <td>u1244</td>\n",
       "      <td>u1248</td>\n",
       "      <td>m82</td>\n",
       "      <td>[L268306, L268307]</td>\n",
       "      <td>2</td>\n",
       "    </tr>\n",
       "    <tr>\n",
       "      <th>55459</th>\n",
       "      <td>u6021</td>\n",
       "      <td>u6024</td>\n",
       "      <td>m400</td>\n",
       "      <td>[L308517, L308518]</td>\n",
       "      <td>2</td>\n",
       "    </tr>\n",
       "    <tr>\n",
       "      <th>12121</th>\n",
       "      <td>u1319</td>\n",
       "      <td>u1323</td>\n",
       "      <td>m88</td>\n",
       "      <td>[L279957, L279958]</td>\n",
       "      <td>2</td>\n",
       "    </tr>\n",
       "  </tbody>\n",
       "</table>\n",
       "<p>83097 rows × 5 columns</p>\n",
       "</div>"
      ],
      "text/plain": [
       "      charID_1 charID_2 movieID  \\\n",
       "42477    u4522    u4525    m299   \n",
       "73134    u7932    u7936    m537   \n",
       "70355    u7663    u7666    m518   \n",
       "45571    u4857    u4866    m324   \n",
       "11348    u1240    u1243     m82   \n",
       "...        ...      ...     ...   \n",
       "20661    u2256    u2265    m145   \n",
       "55457    u6020    u6022    m400   \n",
       "11491    u1244    u1248     m82   \n",
       "55459    u6021    u6024    m400   \n",
       "12121    u1319    u1323     m88   \n",
       "\n",
       "                                            conversation  length  \n",
       "42477  [L135360, L135361, L135362, L135363, L135364, ...      89  \n",
       "73134  [L553902, L553903, L553904, L553905, L553906, ...      59  \n",
       "70355  [L513247, L513248, L513249, L513250, L513251, ...      56  \n",
       "45571  [L167261, L167262, L167263, L167264, L167265, ...      55  \n",
       "11348  [L267558, L267559, L267560, L267561, L267562, ...      54  \n",
       "...                                                  ...     ...  \n",
       "20661                                 [L412100, L412101]       2  \n",
       "55457                                 [L308227, L308228]       2  \n",
       "11491                                 [L268306, L268307]       2  \n",
       "55459                                 [L308517, L308518]       2  \n",
       "12121                                 [L279957, L279958]       2  \n",
       "\n",
       "[83097 rows x 5 columns]"
      ]
     },
     "execution_count": 26,
     "metadata": {},
     "output_type": "execute_result"
    }
   ],
   "source": [
    "conversations['conversation'] = conversations['conversation'].map(lambda x: re.findall(r\"\\w+\", x))\n",
    "\n",
    "# I could not find another way to filter based on the length of the conversation other than creating another column\n",
    "conversations['length'] = conversations['conversation'].apply(lambda x: len(x))\n",
    "\n",
    "conversations.sort_values(by=['length'], ascending=False)"
   ]
  },
  {
   "cell_type": "code",
   "execution_count": 27,
   "id": "56d28085",
   "metadata": {},
   "outputs": [],
   "source": [
    "def check_columns_existence(df, columns):\n",
    "    for col in columns:\n",
    "        if col not in df.columns:\n",
    "            print(f\"The column '{col}' does not exist in DataFrame\")\n",
    "\n",
    "# Check if columns exist in each DataFrame\n",
    "check_columns_existence(characters, ['charName'])\n",
    "check_columns_existence(titles, ['title'])\n",
    "check_columns_existence(lines, ['charName', 'text'])\n",
    "check_columns_existence(conversations, ['charID_1', 'charID_2', 'movieID', 'conversation'])"
   ]
  },
  {
   "cell_type": "code",
   "execution_count": 28,
   "id": "3f6eed7f",
   "metadata": {},
   "outputs": [],
   "source": [
    "def get_movie_list(movies):\n",
    "    movie_list = movies['title'].tolist()\n",
    "    return movie_list"
   ]
  },
  {
   "cell_type": "code",
   "execution_count": 29,
   "id": "0521bf96",
   "metadata": {},
   "outputs": [
    {
     "name": "stdout",
     "output_type": "stream",
     "text": [
      "['10 things i hate about you', '1492: conquest of paradise', '15 minutes', '2001: a space odyssey', '48 hrs.']\n"
     ]
    }
   ],
   "source": [
    "movie_list = get_movie_list(titles)\n",
    "print(movie_list[:5])"
   ]
  },
  {
   "cell_type": "code",
   "execution_count": 30,
   "id": "b038be55",
   "metadata": {},
   "outputs": [],
   "source": [
    "def extract_conversations_for_movies(movies_list, characters, movies, lines, conversations):\n",
    "    movie_ids = [movies[movies['title'] == movie_title].index[0] for movie_title in movies_list]\n",
    "    movie_conversations = {}\n",
    "\n",
    "    for movie_id in movie_ids:\n",
    "        # Get all conversations for this movie\n",
    "        relevant_convos = conversations[conversations['movieID'] == movie_id]\n",
    "        \n",
    "        # If the movie title isn't already in the dictionary, add it with an empty list\n",
    "        movie_title = movies.loc[movie_id].title\n",
    "        if movie_title not in movie_conversations:\n",
    "            movie_conversations[movie_title] = []\n",
    "        \n",
    "        # Loop through the relevant conversations\n",
    "        for i, conversation in relevant_convos.iterrows():\n",
    "            char_name1 = characters.loc[conversation['charID_1']].charName\n",
    "            char_name2 = characters.loc[conversation['charID_2']].charName\n",
    "            \n",
    "            convo_text = []  # Create an empty list to store the lines of this conversation\n",
    "\n",
    "            for lineID in conversation.conversation:\n",
    "                try:\n",
    "                    line = lines.loc[lineID]\n",
    "                    convo_text.append(f\"{line.charName} : {line.text}\")  # Add each line to the convo_text list\n",
    "                except KeyError:\n",
    "                    continue\n",
    "\n",
    "            # Join the conversation lines together into a single string and add to the movie's list\n",
    "            movie_conversations[movie_title].append(' '.join(convo_text))\n",
    "\n",
    "    return movie_conversations"
   ]
  },
  {
   "cell_type": "code",
   "execution_count": 31,
   "id": "59f3fbe1",
   "metadata": {},
   "outputs": [],
   "source": [
    "movies_list_test = movie_list[0:9]\n",
    "data = extract_conversations_for_movies(movies_list_test, characters, titles, lines, conversations)"
   ]
  },
  {
   "cell_type": "code",
   "execution_count": 32,
   "id": "e733ffbf",
   "metadata": {},
   "outputs": [
    {
     "data": {
      "text/plain": [
       "<9x4040 sparse matrix of type '<class 'numpy.float64'>'\n",
       "\twith 8252 stored elements in Compressed Sparse Row format>"
      ]
     },
     "execution_count": 32,
     "metadata": {},
     "output_type": "execute_result"
    }
   ],
   "source": [
    "from sklearn.feature_extraction.text import TfidfVectorizer\n",
    "\n",
    "# Feature Extraction using TF-IDF\n",
    "tfidf_vectorizer = TfidfVectorizer()\n",
    "tfidf_matrix = tfidf_vectorizer.fit_transform([' '.join(item) for item in data.values()])\n",
    "tfidf_matrix"
   ]
  },
  {
   "cell_type": "code",
   "execution_count": 33,
   "id": "9f813776",
   "metadata": {},
   "outputs": [],
   "source": [
    "# Cosine Similarity\n",
    "from sklearn.metrics.pairwise import cosine_similarity\n",
    "cosine_similarities = cosine_similarity(tfidf_matrix)"
   ]
  },
  {
   "cell_type": "code",
   "execution_count": 34,
   "id": "5e51d611",
   "metadata": {},
   "outputs": [
    {
     "data": {
      "text/plain": [
       "array([[1.        , 0.28399227, 0.37627293, 0.28780613, 0.30216503,\n",
       "        0.30865836, 0.30798994, 0.25051429, 0.25139951],\n",
       "       [0.28399227, 1.        , 0.37085065, 0.30707145, 0.29439131,\n",
       "        0.3267838 , 0.30361777, 0.2355602 , 0.24326171],\n",
       "       [0.37627293, 0.37085065, 1.        , 0.37257231, 0.40274556,\n",
       "        0.40320718, 0.44742061, 0.32669167, 0.327119  ],\n",
       "       [0.28780613, 0.30707145, 0.37257231, 1.        , 0.30672295,\n",
       "        0.33616096, 0.31735647, 0.25673337, 0.25963981],\n",
       "       [0.30216503, 0.29439131, 0.40274556, 0.30672295, 1.        ,\n",
       "        0.32697745, 0.32350932, 0.2737099 , 0.26628887],\n",
       "       [0.30865836, 0.3267838 , 0.40320718, 0.33616096, 0.32697745,\n",
       "        1.        , 0.33387696, 0.26638637, 0.2668693 ],\n",
       "       [0.30798994, 0.30361777, 0.44742061, 0.31735647, 0.32350932,\n",
       "        0.33387696, 1.        , 0.27502758, 0.27558812],\n",
       "       [0.25051429, 0.2355602 , 0.32669167, 0.25673337, 0.2737099 ,\n",
       "        0.26638637, 0.27502758, 1.        , 0.65533757],\n",
       "       [0.25139951, 0.24326171, 0.327119  , 0.25963981, 0.26628887,\n",
       "        0.2668693 , 0.27558812, 0.65533757, 1.        ]])"
      ]
     },
     "execution_count": 34,
     "metadata": {},
     "output_type": "execute_result"
    }
   ],
   "source": [
    "cosine_similarities"
   ]
  },
  {
   "cell_type": "code",
   "execution_count": 35,
   "id": "fb473261",
   "metadata": {},
   "outputs": [
    {
     "name": "stdout",
     "output_type": "stream",
     "text": [
      "count    83097.000000\n",
      "mean         3.666955\n",
      "std          2.891798\n",
      "min          2.000000\n",
      "25%          2.000000\n",
      "50%          3.000000\n",
      "75%          4.000000\n",
      "max         89.000000\n",
      "Name: length, dtype: float64\n"
     ]
    },
    {
     "data": {
      "text/plain": [
       "<Axes: xlabel='length'>"
      ]
     },
     "execution_count": 35,
     "metadata": {},
     "output_type": "execute_result"
    },
    {
     "data": {
      "image/png": "[encoded data removed]",
      "text/plain": [
       "<Figure size 1500x500 with 1 Axes>"
      ]
     },
     "metadata": {},
     "output_type": "display_data"
    }
   ],
   "source": [
    "print(conversations.length.describe())\n",
    "fig, ax = plt.subplots(figsize=(15,5))\n",
    "sns.violinplot(ax=ax, x=conversations.length, inner=None)"
   ]
  },
  {
   "cell_type": "code",
   "execution_count": 36,
   "id": "2d156ef8",
   "metadata": {},
   "outputs": [],
   "source": [
    "def view_convo(conversation, characters, movies, lines):\n",
    "    charID_1, charID_2, movieID = conversation['charID_1'], conversation['charID_2'], conversation['movieID']\n",
    "    \n",
    "    char1 = characters.loc[charID_1].charName\n",
    "    char2 = characters.loc[charID_2].charName\n",
    "    movie = movies.loc[movieID].title\n",
    "    \n",
    "    convo_header = f\"This conversation was between {char1} and {char2}, from movie : {movie}.\"\n",
    "    print(convo_header)\n",
    "    print(f\"{'-' * len(convo_header)}\")\n",
    "\n",
    "    for lineID in conversation.conversation:\n",
    "        line = lines.loc[lineID]\n",
    "        print(f\"{line.charName} : {line.text}\")"
   ]
  },
  {
   "cell_type": "code",
   "execution_count": 37,
   "id": "58170e93",
   "metadata": {},
   "outputs": [
    {
     "name": "stdout",
     "output_type": "stream",
     "text": [
      "This conversation was between BIANCA and CAMERON, from movie : 10 things i hate about you.\n",
      "------------------------------------------------------------------------------------------\n",
      "BIANCA : Can we make this quick?  Roxanne Korrine and Andrew Barrett are having an incredibly horrendous public break- up on the quad.  Again.\n",
      "CAMERON : Well I thought we'd start with pronunciation if that's okay with you.\n",
      "BIANCA : Not the hacking and gagging and spitting part.  Please.\n",
      "CAMERON : Okay... then how 'bout we try out some French cuisine.  Saturday?  Night?\n"
     ]
    }
   ],
   "source": [
    "view_convo(conversations.iloc[0], characters, titles, lines)"
   ]
  },
  {
   "cell_type": "code",
   "execution_count": 39,
   "id": "a446ed33",
   "metadata": {},
   "outputs": [],
   "source": [
    "def view_all_convos(char_name1, char_name2, movie_title, characters, movies, lines, conversations):\n",
    "    # Identify the character IDs and movie ID\n",
    "    charID_1 = characters[characters['charName'] == char_name1].index[0]\n",
    "    charID_2 = characters[characters['charName'] == char_name2].index[0]\n",
    "    movieID = movies[movies['title'] == movie_title].index[0]\n",
    "\n",
    "\n",
    "    relevant_convos = conversations[((conversations['charID_1'] == charID_1) & (conversations['charID_2'] == charID_2) |\n",
    "                                     (conversations['charID_1'] == charID_2) & (conversations['charID_2'] == charID_1)) &\n",
    "                                    (conversations['movieID'] == movieID)]\n",
    "\n",
    "    # Loop through the relevant conversations\n",
    "    for i, conversation in relevant_convos.iterrows():\n",
    "        convo_header = f\"This conversation was between {char_name1} and {char_name2}, from movie : {movie_title}.\"\n",
    "        print(convo_header)\n",
    "        print(f\"{'-' * len(convo_header)}\")\n",
    "\n",
    "        for lineID in conversation.conversation:\n",
    "            line = lines.loc[lineID]\n",
    "            print(f\"{line.charName} : {line.text}\")\n",
    "\n",
    "        print(\"\\n\\n\")  # New line between different conversations"
   ]
  },
  {
   "cell_type": "code",
   "execution_count": 40,
   "id": "8a48cb84",
   "metadata": {},
   "outputs": [],
   "source": [
    "def check_columns_existence(df, columns):\n",
    "    for col in columns:\n",
    "        if col not in df.columns:\n",
    "            print(f\"The column '{col}' does not exist in DataFrame\")\n",
    "\n",
    "# Check if columns exist in each DataFrame\n",
    "check_columns_existence(characters, ['charName'])\n",
    "check_columns_existence(titles, ['title'])\n",
    "check_columns_existence(lines, ['charName', 'text'])\n",
    "check_columns_existence(conversations, ['charID_1', 'charID_2', 'movieID', 'conversation'])"
   ]
  },
  {
   "cell_type": "code",
   "execution_count": 41,
   "id": "1b3e72ca",
   "metadata": {},
   "outputs": [],
   "source": [
    "def get_movie_list(movies):\n",
    "    movie_list = movies['title'].tolist()\n",
    "    return movie_list\n"
   ]
  },
  {
   "cell_type": "code",
   "execution_count": 42,
   "id": "254dcb0d",
   "metadata": {},
   "outputs": [
    {
     "name": "stdout",
     "output_type": "stream",
     "text": [
      "['10 things i hate about you', '1492: conquest of paradise', '15 minutes', '2001: a space odyssey', '48 hrs.']\n"
     ]
    }
   ],
   "source": [
    "movie_list = get_movie_list(titles)\n",
    "print(movie_list[:5])"
   ]
  },
  {
   "cell_type": "code",
   "execution_count": 43,
   "id": "07ae4fac",
   "metadata": {},
   "outputs": [],
   "source": [
    "def extract_conversations_for_movies(movies_list, characters, movies, lines, conversations):\n",
    "    movie_ids = [movies[movies['title'] == movie_title].index[0] for movie_title in movies_list]\n",
    "    movie_conversations = {}\n",
    "\n",
    "    for movie_id in movie_ids:\n",
    "        # Get all conversations for this movie\n",
    "        relevant_convos = conversations[conversations['movieID'] == movie_id]\n",
    "        \n",
    "        # If the movie title isn't already in the dictionary, add it with an empty list\n",
    "        movie_title = movies.loc[movie_id].title\n",
    "        if movie_title not in movie_conversations:\n",
    "            movie_conversations[movie_title] = []\n",
    "        \n",
    "        # Loop through the relevant conversations\n",
    "        for i, conversation in relevant_convos.iterrows():\n",
    "            char_name1 = characters.loc[conversation['charID_1']].charName\n",
    "            char_name2 = characters.loc[conversation['charID_2']].charName\n",
    "            \n",
    "            convo_text = []  # Create an empty list to store the lines of this conversation\n",
    "\n",
    "            for lineID in conversation.conversation:\n",
    "                try:\n",
    "                    line = lines.loc[lineID]\n",
    "                    convo_text.append(f\"{line.charName} : {line.text}\")  # Add each line to the convo_text list\n",
    "                except KeyError:\n",
    "                    continue\n",
    "\n",
    "            # Join the conversation lines together into a single string and add to the movie's list\n",
    "            movie_conversations[movie_title].append(' '.join(convo_text))\n",
    "\n",
    "    return movie_conversations"
   ]
  },
  {
   "cell_type": "code",
   "execution_count": 44,
   "id": "9ff3af52",
   "metadata": {},
   "outputs": [],
   "source": [
    "movies_list_test = movie_list[0:9]\n",
    "data = extract_conversations_for_movies(movies_list_test, characters, titles, lines, conversations)"
   ]
  },
  {
   "cell_type": "code",
   "execution_count": 45,
   "id": "d44bb77c",
   "metadata": {},
   "outputs": [
    {
     "data": {
      "text/plain": [
       "[\"BIANCA : Can we make this quick?  Roxanne Korrine and Andrew Barrett are having an incredibly horrendous public break- up on the quad.  Again. CAMERON : Well I thought we'd start with pronunciation if that's okay with you. BIANCA : Not the hacking and gagging and spitting part.  Please. CAMERON : Okay... then how 'bout we try out some French cuisine.  Saturday?  Night?\",\n",
       " \"BIANCA : You're asking me out.  That's so cute. What's your name again? CAMERON : Forget it.\",\n",
       " \"BIANCA : No no it's my fault -- we didn't have a proper introduction --- CAMERON : Cameron. BIANCA : The thing is Cameron -- I'm at the mercy of a particularly hideous breed of loser.  My sister.  I can't date until she does. CAMERON : Seems like she could get a date easy enough...\",\n",
       " \"CAMERON : Why? BIANCA : Unsolved mystery.  She used to be really popular when she started high school then it was just like she got sick of it or something. CAMERON : That's a shame.\",\n",
       " 'BIANCA : Gosh if only we could find Kat a boyfriend... CAMERON : Let me see what I can do.',\n",
       " \"BIANCA : C'esc ma tete. This is my head CAMERON : Right.  See?  You're ready for the quiz. BIANCA : I don't want to know how to say that though.  I want to know useful things. Like where the good stores are.  How much does champagne cost?  Stuff like Chat.  I have never in my life had to point out my head to someone. CAMERON : That's because it's such a nice one. BIANCA : Forget French.\",\n",
       " \"BIANCA : How is our little Find the Wench A Date plan progressing? CAMERON : Well there's someone I think might be --\",\n",
       " 'CAMERON : There. BIANCA : Where?',\n",
       " \"CAMERON : You got something on your mind? BIANCA : I counted on you to help my cause. You and that thug are obviously failing. Aren't we ever going on our date?\",\n",
       " \"CAMERON : You have my word.  As a gentleman BIANCA : You're sweet.\"]"
      ]
     },
     "execution_count": 45,
     "metadata": {},
     "output_type": "execute_result"
    }
   ],
   "source": [
    "data['10 things i hate about you'][:10]"
   ]
  },
  {
   "cell_type": "code",
   "execution_count": 46,
   "id": "3560b65f",
   "metadata": {},
   "outputs": [],
   "source": [
    "import re\n",
    "\n",
    "def prepare_data_for_ner(data):\n",
    "    TRAIN_DATA = []\n",
    "    for movie, convos in data.items():\n",
    "        for convo in convos:\n",
    "            entities = []\n",
    "            # Using regex to find capitalized words or consecutive capitalized words, which should mostly be character names\n",
    "            for m in re.finditer(r'(\\b[A-Z][a-z]*\\b)(\\s\\b[A-Z][a-z]*\\b)*', convo):\n",
    "                entities.append((m.start(), m.end(), 'CHARACTER'))\n",
    "            TRAIN_DATA.append((convo, {\"entities\": entities}))\n",
    "    return TRAIN_DATA"
   ]
  },
  {
   "cell_type": "code",
   "execution_count": 47,
   "id": "a8466f17",
   "metadata": {},
   "outputs": [],
   "source": [
    "prepared_data = prepare_data_for_ner(data)"
   ]
  },
  {
   "cell_type": "code",
   "execution_count": 48,
   "id": "a8d1e5c4",
   "metadata": {},
   "outputs": [
    {
     "data": {
      "text/plain": [
       "[(\"BIANCA : Can we make this quick?  Roxanne Korrine and Andrew Barrett are having an incredibly horrendous public break- up on the quad.  Again. CAMERON : Well I thought we'd start with pronunciation if that's okay with you. BIANCA : Not the hacking and gagging and spitting part.  Please. CAMERON : Okay... then how 'bout we try out some French cuisine.  Saturday?  Night?\",\n",
       "  {'entities': [(9, 12, 'CHARACTER'),\n",
       "    (34, 49, 'CHARACTER'),\n",
       "    (54, 68, 'CHARACTER'),\n",
       "    (136, 141, 'CHARACTER'),\n",
       "    (153, 159, 'CHARACTER'),\n",
       "    (232, 235, 'CHARACTER'),\n",
       "    (280, 286, 'CHARACTER'),\n",
       "    (298, 302, 'CHARACTER'),\n",
       "    (337, 343, 'CHARACTER'),\n",
       "    (354, 362, 'CHARACTER'),\n",
       "    (365, 370, 'CHARACTER')]}),\n",
       " (\"BIANCA : You're asking me out.  That's so cute. What's your name again? CAMERON : Forget it.\",\n",
       "  {'entities': [(9, 12, 'CHARACTER'),\n",
       "    (32, 36, 'CHARACTER'),\n",
       "    (48, 52, 'CHARACTER'),\n",
       "    (82, 88, 'CHARACTER')]}),\n",
       " (\"BIANCA : No no it's my fault -- we didn't have a proper introduction --- CAMERON : Cameron. BIANCA : The thing is Cameron -- I'm at the mercy of a particularly hideous breed of loser.  My sister.  I can't date until she does. CAMERON : Seems like she could get a date easy enough...\",\n",
       "  {'entities': [(9, 11, 'CHARACTER'),\n",
       "    (83, 90, 'CHARACTER'),\n",
       "    (101, 104, 'CHARACTER'),\n",
       "    (114, 121, 'CHARACTER'),\n",
       "    (125, 126, 'CHARACTER'),\n",
       "    (185, 187, 'CHARACTER'),\n",
       "    (197, 198, 'CHARACTER'),\n",
       "    (236, 241, 'CHARACTER')]}),\n",
       " (\"CAMERON : Why? BIANCA : Unsolved mystery.  She used to be really popular when she started high school then it was just like she got sick of it or something. CAMERON : That's a shame.\",\n",
       "  {'entities': [(10, 13, 'CHARACTER'),\n",
       "    (24, 32, 'CHARACTER'),\n",
       "    (43, 46, 'CHARACTER'),\n",
       "    (167, 171, 'CHARACTER')]}),\n",
       " ('BIANCA : Gosh if only we could find Kat a boyfriend... CAMERON : Let me see what I can do.',\n",
       "  {'entities': [(9, 13, 'CHARACTER'),\n",
       "    (36, 39, 'CHARACTER'),\n",
       "    (65, 68, 'CHARACTER'),\n",
       "    (81, 82, 'CHARACTER')]}),\n",
       " (\"BIANCA : C'esc ma tete. This is my head CAMERON : Right.  See?  You're ready for the quiz. BIANCA : I don't want to know how to say that though.  I want to know useful things. Like where the good stores are.  How much does champagne cost?  Stuff like Chat.  I have never in my life had to point out my head to someone. CAMERON : That's because it's such a nice one. BIANCA : Forget French.\",\n",
       "  {'entities': [(9, 10, 'CHARACTER'),\n",
       "    (24, 28, 'CHARACTER'),\n",
       "    (50, 55, 'CHARACTER'),\n",
       "    (58, 61, 'CHARACTER'),\n",
       "    (64, 67, 'CHARACTER'),\n",
       "    (100, 101, 'CHARACTER'),\n",
       "    (146, 147, 'CHARACTER'),\n",
       "    (176, 180, 'CHARACTER'),\n",
       "    (209, 212, 'CHARACTER'),\n",
       "    (240, 245, 'CHARACTER'),\n",
       "    (251, 255, 'CHARACTER'),\n",
       "    (258, 259, 'CHARACTER'),\n",
       "    (329, 333, 'CHARACTER'),\n",
       "    (375, 388, 'CHARACTER')]}),\n",
       " (\"BIANCA : How is our little Find the Wench A Date plan progressing? CAMERON : Well there's someone I think might be --\",\n",
       "  {'entities': [(9, 12, 'CHARACTER'),\n",
       "    (27, 31, 'CHARACTER'),\n",
       "    (36, 48, 'CHARACTER'),\n",
       "    (77, 81, 'CHARACTER'),\n",
       "    (98, 99, 'CHARACTER')]}),\n",
       " ('CAMERON : There. BIANCA : Where?',\n",
       "  {'entities': [(10, 15, 'CHARACTER'), (26, 31, 'CHARACTER')]}),\n",
       " (\"CAMERON : You got something on your mind? BIANCA : I counted on you to help my cause. You and that thug are obviously failing. Aren't we ever going on our date?\",\n",
       "  {'entities': [(10, 13, 'CHARACTER'),\n",
       "    (51, 52, 'CHARACTER'),\n",
       "    (86, 89, 'CHARACTER'),\n",
       "    (127, 131, 'CHARACTER')]}),\n",
       " (\"CAMERON : You have my word.  As a gentleman BIANCA : You're sweet.\",\n",
       "  {'entities': [(10, 13, 'CHARACTER'),\n",
       "    (29, 31, 'CHARACTER'),\n",
       "    (53, 56, 'CHARACTER')]})]"
      ]
     },
     "execution_count": 48,
     "metadata": {},
     "output_type": "execute_result"
    }
   ],
   "source": [
    "prepared_data[:10]"
   ]
  },
  {
   "cell_type": "code",
   "execution_count": 49,
   "id": "b0be99cf",
   "metadata": {},
   "outputs": [
    {
     "ename": "OSError",
     "evalue": "[E050] Can't find model 'en_core_web_sm'. It doesn't seem to be a Python package or a valid path to a data directory.",
     "output_type": "error",
     "traceback": [
      "\u001b[0;31m---------------------------------------------------------------------------\u001b[0m",
      "\u001b[0;31mOSError\u001b[0m                                   Traceback (most recent call last)",
      "Cell \u001b[0;32mIn[49], line 5\u001b[0m\n\u001b[1;32m      2\u001b[0m \u001b[38;5;28;01mfrom\u001b[39;00m \u001b[38;5;21;01mspacy\u001b[39;00m \u001b[38;5;28;01mimport\u001b[39;00m displacy\n\u001b[1;32m      4\u001b[0m \u001b[38;5;66;03m# Load a model for English language\u001b[39;00m\n\u001b[0;32m----> 5\u001b[0m nlp \u001b[38;5;241m=\u001b[39m spacy\u001b[38;5;241m.\u001b[39mload(\u001b[38;5;124m\"\u001b[39m\u001b[38;5;124men_core_web_sm\u001b[39m\u001b[38;5;124m\"\u001b[39m)\n\u001b[1;32m      7\u001b[0m \u001b[38;5;28;01mdef\u001b[39;00m \u001b[38;5;21mprocess_conversations\u001b[39m(conversations):\n\u001b[1;32m      8\u001b[0m     conversations_entities \u001b[38;5;241m=\u001b[39m []\n",
      "File \u001b[0;32m~/anaconda3/lib/python3.11/site-packages/spacy/__init__.py:51\u001b[0m, in \u001b[0;36mload\u001b[0;34m(name, vocab, disable, enable, exclude, config)\u001b[0m\n\u001b[1;32m     27\u001b[0m \u001b[38;5;28;01mdef\u001b[39;00m \u001b[38;5;21mload\u001b[39m(\n\u001b[1;32m     28\u001b[0m     name: Union[\u001b[38;5;28mstr\u001b[39m, Path],\n\u001b[1;32m     29\u001b[0m     \u001b[38;5;241m*\u001b[39m,\n\u001b[0;32m   (...)\u001b[0m\n\u001b[1;32m     34\u001b[0m     config: Union[Dict[\u001b[38;5;28mstr\u001b[39m, Any], Config] \u001b[38;5;241m=\u001b[39m util\u001b[38;5;241m.\u001b[39mSimpleFrozenDict(),\n\u001b[1;32m     35\u001b[0m ) \u001b[38;5;241m-\u001b[39m\u001b[38;5;241m>\u001b[39m Language:\n\u001b[1;32m     36\u001b[0m \u001b[38;5;250m    \u001b[39m\u001b[38;5;124;03m\"\"\"Load a spaCy model from an installed package or a local path.\u001b[39;00m\n\u001b[1;32m     37\u001b[0m \n\u001b[1;32m     38\u001b[0m \u001b[38;5;124;03m    name (str): Package name or model path.\u001b[39;00m\n\u001b[0;32m   (...)\u001b[0m\n\u001b[1;32m     49\u001b[0m \u001b[38;5;124;03m    RETURNS (Language): The loaded nlp object.\u001b[39;00m\n\u001b[1;32m     50\u001b[0m \u001b[38;5;124;03m    \"\"\"\u001b[39;00m\n\u001b[0;32m---> 51\u001b[0m     \u001b[38;5;28;01mreturn\u001b[39;00m util\u001b[38;5;241m.\u001b[39mload_model(\n\u001b[1;32m     52\u001b[0m         name,\n\u001b[1;32m     53\u001b[0m         vocab\u001b[38;5;241m=\u001b[39mvocab,\n\u001b[1;32m     54\u001b[0m         disable\u001b[38;5;241m=\u001b[39mdisable,\n\u001b[1;32m     55\u001b[0m         enable\u001b[38;5;241m=\u001b[39menable,\n\u001b[1;32m     56\u001b[0m         exclude\u001b[38;5;241m=\u001b[39mexclude,\n\u001b[1;32m     57\u001b[0m         config\u001b[38;5;241m=\u001b[39mconfig,\n\u001b[1;32m     58\u001b[0m     )\n",
      "File \u001b[0;32m~/anaconda3/lib/python3.11/site-packages/spacy/util.py:472\u001b[0m, in \u001b[0;36mload_model\u001b[0;34m(name, vocab, disable, enable, exclude, config)\u001b[0m\n\u001b[1;32m    470\u001b[0m \u001b[38;5;28;01mif\u001b[39;00m name \u001b[38;5;129;01min\u001b[39;00m OLD_MODEL_SHORTCUTS:\n\u001b[1;32m    471\u001b[0m     \u001b[38;5;28;01mraise\u001b[39;00m \u001b[38;5;167;01mIOError\u001b[39;00m(Errors\u001b[38;5;241m.\u001b[39mE941\u001b[38;5;241m.\u001b[39mformat(name\u001b[38;5;241m=\u001b[39mname, full\u001b[38;5;241m=\u001b[39mOLD_MODEL_SHORTCUTS[name]))  \u001b[38;5;66;03m# type: ignore[index]\u001b[39;00m\n\u001b[0;32m--> 472\u001b[0m \u001b[38;5;28;01mraise\u001b[39;00m \u001b[38;5;167;01mIOError\u001b[39;00m(Errors\u001b[38;5;241m.\u001b[39mE050\u001b[38;5;241m.\u001b[39mformat(name\u001b[38;5;241m=\u001b[39mname))\n",
      "\u001b[0;31mOSError\u001b[0m: [E050] Can't find model 'en_core_web_sm'. It doesn't seem to be a Python package or a valid path to a data directory."
     ]
    }
   ],
   "source": [
    "import spacy\n",
    "from spacy import displacy\n",
    "\n",
    "# Load a model for English language\n",
    "nlp = spacy.load(\"en_core_web_sm\")\n",
    "\n",
    "def process_conversations(conversations):\n",
    "    conversations_entities = []\n",
    "    for conversation in conversations:\n",
    "        # apply NER on the conversation\n",
    "        doc = nlp(conversation)\n",
    "        entities = []\n",
    "        for ent in doc.ents:\n",
    "            # store the entity, its category and the position in the text\n",
    "            entities.append((ent.text, ent.start_char, ent.end_char, ent.label_))\n",
    "        conversations_entities.append(entities)\n",
    "    return conversations_entities\n",
    "\n",
    "conversations = data['10 things i hate about you']\n",
    "\n",
    "conversations_entities = process_conversations(conversations)\n",
    "\n",
    "for i, entities in enumerate(conversations_entities):\n",
    "    print(f\"Entities in conversation {i + 1}:\")\n",
    "    for entity in entities:\n",
    "        print(entity)"
   ]
  },
  {
   "cell_type": "code",
   "execution_count": null,
   "id": "5b207a02",
   "metadata": {},
   "outputs": [],
   "source": []
  }
 ],
 "metadata": {
  "kernelspec": {
   "display_name": "Python 3 (ipykernel)",
   "language": "python",
   "name": "python3"
  },
  "language_info": {
   "codemirror_mode": {
    "name": "ipython",
    "version": 3
   },
   "file_extension": ".py",
   "mimetype": "text/x-python",
   "name": "python",
   "nbconvert_exporter": "python",
   "pygments_lexer": "ipython3",
   "version": "3.11.5"
  }
 },
 "nbformat": 4,
 "nbformat_minor": 5
}
