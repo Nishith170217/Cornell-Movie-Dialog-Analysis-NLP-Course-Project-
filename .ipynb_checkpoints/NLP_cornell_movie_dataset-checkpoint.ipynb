{
 "cells": [
  {
   "cell_type": "markdown",
   "metadata": {
    "id": "FIse_sLsCEjE"
   },
   "source": [
    "# Cornell Movie Dialog Dataset\n",
    "Collection of conversations extracted from movie scripts, created by researchers at *Cornell University*\n",
    "\n",
    "- Website: https://www.cs.cornell.edu/~cristian/Chameleons_in_imagined_conversations.html\n",
    "\n",
    "- Dataset: http://www.cs.cornell.edu/~cristian/data/cornell_movie_dialogs_corpus.zip\n",
    "\n",
    "- Paper: https://www.cs.cornell.edu/~cristian/papers/chameleons.pdf\n",
    "\n",
    "**Citation:**\n",
    ">Danescu-Niculescu-Mizil, C., & Lee, L. (2011).\n",
    ">\n",
    "> *Chameleons in imagined conversations: A new approach to understanding coordination of linguistic style in dialogs.*\n",
    ">\n",
    "> In Proceedings of the Workshop on Cognitive Modeling and Computational Linguistics, ACL 2011.\n",
    "\n"
   ]
  },
  {
   "cell_type": "markdown",
   "metadata": {
    "id": "3buKf5-gDko-"
   },
   "source": [
    "**NLP Group Assignment**\n",
    "- Elif Gamze GULITER\n",
    "- Romane KULESZA\n",
    "- Volkan MAZLUM\n",
    "- Juan Pablo RAMIREZ\n",
    "\n",
    "**Politecnico di Milano**\n",
    "\n",
    "The purpose of this notebook is to ..."
   ]
  },
  {
   "cell_type": "markdown",
   "metadata": {
    "id": "kCb_AA0JE--e"
   },
   "source": [
    "### Connect to Drive\n",
    "**(optional for Google Colab users)**"
   ]
  },
  {
   "cell_type": "code",
   "execution_count": 1,
   "metadata": {
    "colab": {
     "base_uri": "https://localhost:8080/"
    },
    "id": "2khE1l5iEyNu",
    "outputId": "84d46e52-070c-4a23-e262-fff691f7f12e"
   },
   "outputs": [
    {
     "name": "stdout",
     "output_type": "stream",
     "text": [
      "Mounted at /content/drive/\n",
      "/content/drive/My Drive/NLP Cornell Movie Dataset\n"
     ]
    }
   ],
   "source": [
    "from google.colab import drive\n",
    "drive.mount('/content/drive/')\n",
    "\n",
    "%cd /content/drive/My Drive/NLP Cornell Movie Dataset/"
   ]
  },
  {
   "cell_type": "markdown",
   "metadata": {
    "id": "Egus7MfpGPD_"
   },
   "source": [
    "### Download and unzip the Cornell Movie Dialog dataset\n",
    "**(optional)**"
   ]
  },
  {
   "cell_type": "code",
   "execution_count": 1,
   "metadata": {
    "colab": {
     "base_uri": "https://localhost:8080/"
    },
    "id": "k59OkYTQS3Bq",
    "outputId": "b269f54e-0ad6-4ba5-be8d-94c494a20c2b"
   },
   "outputs": [],
   "source": [
    "# Download and unzip the Cornell Movie Dialog dataset\n",
    "download = False\n",
    "if download:\n",
    "  !curl -L -o cornell_movie_dialogs.zip http://www.cs.cornell.edu/~cristian/data/cornell_movie_dialogs_corpus.zip\n",
    "  !unzip cornell_movie_dialogs.zip"
   ]
  },
  {
   "cell_type": "markdown",
   "metadata": {
    "id": "b4L8TnvWFPBY"
   },
   "source": [
    "### Import Libraries"
   ]
  },
  {
   "cell_type": "code",
   "execution_count": 2,
   "metadata": {
    "id": "QaHiCmiWFRVQ"
   },
   "outputs": [],
   "source": [
    "# Fix randomness and hide warnings\n",
    "seed = 42\n",
    "\n",
    "import os\n",
    "os.environ['TF_CPP_MIN_LOG_LEVEL'] = '3'\n",
    "os.environ['PYTHONHASHSEED'] = str(seed)\n",
    "os.environ['MPLCONFIGDIR'] = os.getcwd()+'/configs/'\n",
    "\n",
    "import warnings\n",
    "warnings.simplefilter(action='ignore', category=FutureWarning)\n",
    "warnings.simplefilter(action='ignore', category=Warning)\n",
    "\n",
    "import numpy as np\n",
    "np.random.seed(seed)\n",
    "\n",
    "import logging\n",
    "\n",
    "import random\n",
    "random.seed(seed)"
   ]
  },
  {
   "cell_type": "code",
   "execution_count": 3,
   "metadata": {
    "id": "959r6ebrIAc9"
   },
   "outputs": [],
   "source": [
    "# Import NLP libraries\n",
    "import re"
   ]
  },
  {
   "cell_type": "code",
   "execution_count": 4,
   "metadata": {
    "id": "k5a4uQ9VFXA0"
   },
   "outputs": [],
   "source": [
    "# Import other libraries\n",
    "import ast\n",
    "import pandas as pd\n",
    "import matplotlib.pyplot as plt\n",
    "plt.rc('font', size=16)"
   ]
  },
  {
   "cell_type": "markdown",
   "metadata": {
    "id": "lze3qN9JFeX3"
   },
   "source": [
    "### Load Cornell Movie Dialog Dataset"
   ]
  },
  {
   "cell_type": "code",
   "execution_count": 5,
   "metadata": {
    "id": "iA2vZOCKUtfc"
   },
   "outputs": [],
   "source": [
    "class CornellMovieDialogDataset:\n",
    "  \"\"\"\n",
    "  Class to represent the Cornell Movie Dialog Dataset.\n",
    "\n",
    "  Attributes:\n",
    "    - base_path (str): The base path where the dataset files are located.\n",
    "    - movies (dict): A dictionary to store movie metadata (indexed by movie ID).\n",
    "        - title\n",
    "        - year\n",
    "        - IMBD_rating\n",
    "        - IMBD_votes\n",
    "        - genres\n",
    "    - characters (dict): A dictionary to store character metadata (indexed by character ID).\n",
    "        - name\n",
    "        - movie_id\n",
    "        - gender\n",
    "        - pos_credits\n",
    "    - utterances (dict): A dictionary to store movie lines (indexed by utterance ID).\n",
    "        - character_id\n",
    "        - movie_id\n",
    "        - text\n",
    "    - conversations (list): A list to store conversation data (represented as a list of utterance IDs).\n",
    "  \"\"\"\n",
    "  def __init__(self, base_path):\n",
    "    self.base_path = base_path\n",
    "    self.movies = {}\n",
    "    self.characters = {}\n",
    "    self.utterances = {}\n",
    "    self.conversations = []\n",
    "    self.load_data()\n",
    "\n",
    "  def load_data(self):\n",
    "    \"\"\"\n",
    "    Loads the data from the dataset files into the class attributes.\n",
    "    Uses original iso-8859-1 encoding of the dataset to read files\n",
    "    \"\"\"\n",
    "    # Load movie titles\n",
    "    with open(self.base_path + \"/movie_titles_metadata.txt\", \"r\", encoding=\"iso-8859-1\") as file:\n",
    "      for line in file:\n",
    "        parts = [part.strip() for part in line.split(\"+++$+++\")]\n",
    "        self.movies[parts[0]] = {\n",
    "            'title': parts[1],\n",
    "            'year': int(re.match('\\d+', parts[2])[0]),\n",
    "            'IMDB_rating': float(re.match('[-+]?\\d*\\.\\d+', parts[3])[0]),\n",
    "            'IMDB_votes': int(re.match('\\d+', parts[4])[0]),\n",
    "            'genres': ast.literal_eval(parts[5])\n",
    "        }\n",
    "\n",
    "    # Load characters\n",
    "    with open(self.base_path + \"/movie_characters_metadata.txt\", \"r\", encoding=\"iso-8859-1\") as file:\n",
    "      for line in file:\n",
    "        parts = [part.strip() for part in line.split(\"+++$+++\")]\n",
    "        self.characters[parts[0]] = {\n",
    "            'name': parts[1],\n",
    "            'movie_id': parts[2],\n",
    "            # ignore movie title (redundant)\n",
    "            'gender': parts[4],\n",
    "            'pos_credits': parts[5]\n",
    "        }\n",
    "\n",
    "    # Load movie lines\n",
    "    with open(self.base_path + \"/movie_lines.txt\", \"r\", encoding=\"iso-8859-1\") as file:\n",
    "      for line in file:\n",
    "        parts = [part.strip() for part in line.split(\"+++$+++\")]\n",
    "        self.utterances[parts[0]] = {\n",
    "            'character_id': parts[1],\n",
    "            'movie_id': parts[2],\n",
    "            # ignore character name (redundant)\n",
    "            'text': parts[4]\n",
    "        }\n",
    "\n",
    "    # Load conversations\n",
    "    with open(self.base_path + \"/movie_conversations.txt\", \"r\", encoding=\"iso-8859-1\") as file:\n",
    "      for line in file:\n",
    "        parts = [part.strip() for part in line.split(\"+++$+++\")]\n",
    "        self.conversations.append(ast.literal_eval(parts[3]))\n",
    "        # ignore character ids / movie id (redundant)\n",
    "\n",
    "  def print_summary(self):\n",
    "    \"\"\"\n",
    "    Prints a summary of the dataset.\n",
    "    \"\"\"\n",
    "    print(f'Number of movies: {len(self.movies)}')\n",
    "    print(f'Number of characters: {len(self.characters)}')\n",
    "    print(f'Number of utterances: {len(self.utterances)}')\n",
    "    print(f'Number of conversations: {len(self.conversations)}')\n",
    "\n",
    "  def print_random_conversation(self):\n",
    "    \"\"\"\n",
    "    Prints a random conversation from the dataset.\n",
    "    \"\"\"\n",
    "    conversation = random.choice(self.conversations)\n",
    "    movie = self.movies[self.utterances[conversation[0]]['movie_id']]\n",
    "    print(f\"{movie['title']} ({movie['year']})\")\n",
    "    for line in conversation:\n",
    "      print(f\"- {self.characters[self.utterances[line]['character_id']]['name']}: {self.utterances[line]['text']}\")\n"
   ]
  },
  {
   "cell_type": "code",
   "execution_count": 8,
   "metadata": {
    "id": "8nwJMaURR0mf"
   },
   "outputs": [
    {
     "ename": "FileNotFoundError",
     "evalue": "[Errno 2] No such file or directory: '/Users/nishithranjanbiswas/Desktop/NLP/Cornell-Movie-Dialog-Analysis-NLP-Course-Project-/data/movie_titles_metadata.txt'",
     "output_type": "error",
     "traceback": [
      "\u001b[0;31m---------------------------------------------------------------------------\u001b[0m",
      "\u001b[0;31mFileNotFoundError\u001b[0m                         Traceback (most recent call last)",
      "Cell \u001b[0;32mIn[8], line 3\u001b[0m\n\u001b[1;32m      1\u001b[0m \u001b[38;5;66;03m# Instantiate dataset object and load data\u001b[39;00m\n\u001b[1;32m      2\u001b[0m DATSET_FOLDER \u001b[38;5;241m=\u001b[39m \u001b[38;5;124m'\u001b[39m\u001b[38;5;124mdata\u001b[39m\u001b[38;5;124m'\u001b[39m\n\u001b[0;32m----> 3\u001b[0m dataset \u001b[38;5;241m=\u001b[39m CornellMovieDialogDataset(os\u001b[38;5;241m.\u001b[39mpath\u001b[38;5;241m.\u001b[39mjoin(os\u001b[38;5;241m.\u001b[39mgetcwd(), DATSET_FOLDER))\n",
      "Cell \u001b[0;32mIn[5], line 30\u001b[0m, in \u001b[0;36mCornellMovieDialogDataset.__init__\u001b[0;34m(self, base_path)\u001b[0m\n\u001b[1;32m     28\u001b[0m \u001b[38;5;28mself\u001b[39m\u001b[38;5;241m.\u001b[39mutterances \u001b[38;5;241m=\u001b[39m {}\n\u001b[1;32m     29\u001b[0m \u001b[38;5;28mself\u001b[39m\u001b[38;5;241m.\u001b[39mconversations \u001b[38;5;241m=\u001b[39m []\n\u001b[0;32m---> 30\u001b[0m \u001b[38;5;28mself\u001b[39m\u001b[38;5;241m.\u001b[39mload_data()\n",
      "Cell \u001b[0;32mIn[5], line 38\u001b[0m, in \u001b[0;36mCornellMovieDialogDataset.load_data\u001b[0;34m(self)\u001b[0m\n\u001b[1;32m     33\u001b[0m \u001b[38;5;250m\u001b[39m\u001b[38;5;124;03m\"\"\"\u001b[39;00m\n\u001b[1;32m     34\u001b[0m \u001b[38;5;124;03mLoads the data from the dataset files into the class attributes.\u001b[39;00m\n\u001b[1;32m     35\u001b[0m \u001b[38;5;124;03mUses original iso-8859-1 encoding of the dataset to read files\u001b[39;00m\n\u001b[1;32m     36\u001b[0m \u001b[38;5;124;03m\"\"\"\u001b[39;00m\n\u001b[1;32m     37\u001b[0m \u001b[38;5;66;03m# Load movie titles\u001b[39;00m\n\u001b[0;32m---> 38\u001b[0m \u001b[38;5;28;01mwith\u001b[39;00m \u001b[38;5;28mopen\u001b[39m(\u001b[38;5;28mself\u001b[39m\u001b[38;5;241m.\u001b[39mbase_path \u001b[38;5;241m+\u001b[39m \u001b[38;5;124m\"\u001b[39m\u001b[38;5;124m/movie_titles_metadata.txt\u001b[39m\u001b[38;5;124m\"\u001b[39m, \u001b[38;5;124m\"\u001b[39m\u001b[38;5;124mr\u001b[39m\u001b[38;5;124m\"\u001b[39m, encoding\u001b[38;5;241m=\u001b[39m\u001b[38;5;124m\"\u001b[39m\u001b[38;5;124miso-8859-1\u001b[39m\u001b[38;5;124m\"\u001b[39m) \u001b[38;5;28;01mas\u001b[39;00m file:\n\u001b[1;32m     39\u001b[0m   \u001b[38;5;28;01mfor\u001b[39;00m line \u001b[38;5;129;01min\u001b[39;00m file:\n\u001b[1;32m     40\u001b[0m     parts \u001b[38;5;241m=\u001b[39m [part\u001b[38;5;241m.\u001b[39mstrip() \u001b[38;5;28;01mfor\u001b[39;00m part \u001b[38;5;129;01min\u001b[39;00m line\u001b[38;5;241m.\u001b[39msplit(\u001b[38;5;124m\"\u001b[39m\u001b[38;5;124m+++$+++\u001b[39m\u001b[38;5;124m\"\u001b[39m)]\n",
      "File \u001b[0;32m~/anaconda3/lib/python3.11/site-packages/IPython/core/interactiveshell.py:286\u001b[0m, in \u001b[0;36m_modified_open\u001b[0;34m(file, *args, **kwargs)\u001b[0m\n\u001b[1;32m    279\u001b[0m \u001b[38;5;28;01mif\u001b[39;00m file \u001b[38;5;129;01min\u001b[39;00m {\u001b[38;5;241m0\u001b[39m, \u001b[38;5;241m1\u001b[39m, \u001b[38;5;241m2\u001b[39m}:\n\u001b[1;32m    280\u001b[0m     \u001b[38;5;28;01mraise\u001b[39;00m \u001b[38;5;167;01mValueError\u001b[39;00m(\n\u001b[1;32m    281\u001b[0m         \u001b[38;5;124mf\u001b[39m\u001b[38;5;124m\"\u001b[39m\u001b[38;5;124mIPython won\u001b[39m\u001b[38;5;124m'\u001b[39m\u001b[38;5;124mt let you open fd=\u001b[39m\u001b[38;5;132;01m{\u001b[39;00mfile\u001b[38;5;132;01m}\u001b[39;00m\u001b[38;5;124m by default \u001b[39m\u001b[38;5;124m\"\u001b[39m\n\u001b[1;32m    282\u001b[0m         \u001b[38;5;124m\"\u001b[39m\u001b[38;5;124mas it is likely to crash IPython. If you know what you are doing, \u001b[39m\u001b[38;5;124m\"\u001b[39m\n\u001b[1;32m    283\u001b[0m         \u001b[38;5;124m\"\u001b[39m\u001b[38;5;124myou can use builtins\u001b[39m\u001b[38;5;124m'\u001b[39m\u001b[38;5;124m open.\u001b[39m\u001b[38;5;124m\"\u001b[39m\n\u001b[1;32m    284\u001b[0m     )\n\u001b[0;32m--> 286\u001b[0m \u001b[38;5;28;01mreturn\u001b[39;00m io_open(file, \u001b[38;5;241m*\u001b[39margs, \u001b[38;5;241m*\u001b[39m\u001b[38;5;241m*\u001b[39mkwargs)\n",
      "\u001b[0;31mFileNotFoundError\u001b[0m: [Errno 2] No such file or directory: '/Users/nishithranjanbiswas/Desktop/NLP/Cornell-Movie-Dialog-Analysis-NLP-Course-Project-/data/movie_titles_metadata.txt'"
     ]
    }
   ],
   "source": [
    "# Instantiate dataset object and load data\n",
    "DATSET_FOLDER = 'data'\n",
    "dataset = CornellMovieDialogDataset(os.path.join(os.getcwd(), DATSET_FOLDER))"
   ]
  },
  {
   "cell_type": "code",
   "execution_count": 9,
   "metadata": {
    "colab": {
     "base_uri": "https://localhost:8080/"
    },
    "id": "081LeC1hke7c",
    "outputId": "6d851a8f-cc19-4a0f-b9e7-1a79b742e5d5"
   },
   "outputs": [
    {
     "name": "stdout",
     "output_type": "stream",
     "text": [
      "Number of movies: 617\n",
      "Number of characters: 9035\n",
      "Number of utterances: 304713\n",
      "Number of conversations: 83097\n"
     ]
    }
   ],
   "source": [
    "dataset.print_summary()"
   ]
  },
  {
   "cell_type": "code",
   "execution_count": 12,
   "metadata": {
    "colab": {
     "base_uri": "https://localhost:8080/"
    },
    "id": "GHKd_Ty-oQ8o",
    "outputId": "308c2073-6cbe-449c-821b-106a09ecb6e6"
   },
   "outputs": [
    {
     "name": "stdout",
     "output_type": "stream",
     "text": [
      "a walk to remember (2002)\n",
      "- REV. SULLIVAN: What's Landon Carter up to?\n",
      "- JAMIE: Up to?\n",
      "- REV. SULLIVAN: I thought we had rid ourselves of his disagreeable companionship.\n"
     ]
    }
   ],
   "source": [
    "dataset.print_random_conversation()"
   ]
  },
  {
   "cell_type": "code",
   "execution_count": 6,
   "metadata": {
    "id": "uOwFNLysFjPF"
   },
   "outputs": [],
   "source": [
    "#!pip3 install convokit\n",
    "#from convokit import Corpus, download\n",
    "#corpus = Corpus(filename=download(\"movie-corpus\"))\n",
    "#dir(corpus)"
   ]
  }
 ],
 "metadata": {
  "colab": {
   "provenance": []
  },
  "kernelspec": {
   "display_name": "Python 3 (ipykernel)",
   "language": "python",
   "name": "python3"
  },
  "language_info": {
   "codemirror_mode": {
    "name": "ipython",
    "version": 3
   },
   "file_extension": ".py",
   "mimetype": "text/x-python",
   "name": "python",
   "nbconvert_exporter": "python",
   "pygments_lexer": "ipython3",
   "version": "3.11.5"
  }
 },
 "nbformat": 4,
 "nbformat_minor": 1
}
